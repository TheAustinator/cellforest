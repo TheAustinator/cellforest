{
 "cells": [
  {
   "cell_type": "markdown",
   "metadata": {},
   "source": [
    "# Imports"
   ]
  },
  {
   "cell_type": "code",
   "execution_count": 1,
   "metadata": {},
   "outputs": [],
   "source": [
    "%load_ext autoreload\n",
    "%autoreload 2\n",
    "\n",
    "import cellforest as cf\n",
    "from matplotlib import pyplot as plt\n",
    "import pandas as pd\n",
    "from pathlib import Path"
   ]
  },
  {
   "cell_type": "markdown",
   "metadata": {},
   "source": [
    "# Branch"
   ]
  },
  {
   "cell_type": "markdown",
   "metadata": {},
   "source": [
    "There are many ways to process a single dataset -- changing parameters, adding or removing processing steps, filtering or partitioning data. A `CellBranch` represents a single path through a chain of processes, multiple of which can be easily created to comparatively peer into \"parallel universes\" of processing."
   ]
  },
  {
   "cell_type": "markdown",
   "metadata": {},
   "source": [
    "### Load 10X Sample Data"
   ]
  },
  {
   "cell_type": "markdown",
   "metadata": {},
   "source": [
    "TODO: this is just loading the 150 x 300"
   ]
  },
  {
   "cell_type": "code",
   "execution_count": 55,
   "metadata": {},
   "outputs": [],
   "source": [
    "cellranger_dir = Path(\"tests/data/filtered_gene_bc_matrices/hg19/\")"
   ]
  },
  {
   "cell_type": "code",
   "execution_count": 56,
   "metadata": {},
   "outputs": [
    {
     "name": "stderr",
     "output_type": "stream",
     "text": [
      "WARNING:CellRangerIO:Old 10X chemistry detected -- features named: genes.tsv\n"
     ]
    }
   ],
   "source": [
    "from tests.utils.get_test_data import get_test_data\n",
    "if not cellranger_dir.exists():\n",
    "    get_test_data(keep_raw=True)\n",
    "    if not cellranger_dir.exists():\n",
    "        raise ValueError(\"Notebook must be updated to conform to `get_test_data`\")"
   ]
  },
  {
   "cell_type": "code",
   "execution_count": 57,
   "metadata": {},
   "outputs": [
    {
     "name": "stdout",
     "output_type": "stream",
     "text": [
      "barcodes.tsv  genes.tsv     matrix.mtx\n"
     ]
    }
   ],
   "source": [
    "ls {cellranger_dir}"
   ]
  },
  {
   "cell_type": "markdown",
   "metadata": {},
   "source": [
    "### Get or Create Metadata"
   ]
  },
  {
   "cell_type": "markdown",
   "metadata": {},
   "source": [
    "This set of metadata contains only two columns:\n",
    "\n",
    "`entity_id`: contains the sample or lane identifier, which will be appended to the cell barcodes to prevent barcode collisions in the case of multiple lanes\n",
    "\n",
    "`path_rna`: the directory path to the cellranger outputs containing the `matrix.mtx(.gz)`, `barcodes.mtx(.gz)`, and `features.mtx(.gz)`. (Many older file formats are supported as well)\n",
    "\n",
    "Usually, the metadata would contain much more information which may be useful during analysis, e.g. patient information, cell processing information, etc. The only requirement is that column names don't start with `path_`."
   ]
  },
  {
   "cell_type": "code",
   "execution_count": 58,
   "metadata": {},
   "outputs": [
    {
     "data": {
      "text/html": [
       "<div>\n",
       "<style scoped>\n",
       "    .dataframe tbody tr th:only-of-type {\n",
       "        vertical-align: middle;\n",
       "    }\n",
       "\n",
       "    .dataframe tbody tr th {\n",
       "        vertical-align: top;\n",
       "    }\n",
       "\n",
       "    .dataframe thead th {\n",
       "        text-align: right;\n",
       "    }\n",
       "</style>\n",
       "<table border=\"1\" class=\"dataframe\">\n",
       "  <thead>\n",
       "    <tr style=\"text-align: right;\">\n",
       "      <th></th>\n",
       "      <th>entity_id</th>\n",
       "      <th>path_rna</th>\n",
       "    </tr>\n",
       "  </thead>\n",
       "  <tbody>\n",
       "    <tr>\n",
       "      <th>0</th>\n",
       "      <td>sample_1</td>\n",
       "      <td>/Users/austinmckay/code/cellforest/tests/data/...</td>\n",
       "    </tr>\n",
       "    <tr>\n",
       "      <th>1</th>\n",
       "      <td>sample_2</td>\n",
       "      <td>/Users/austinmckay/code/cellforest/tests/data/...</td>\n",
       "    </tr>\n",
       "  </tbody>\n",
       "</table>\n",
       "</div>"
      ],
      "text/plain": [
       "  entity_id                                           path_rna\n",
       "0  sample_1  /Users/austinmckay/code/cellforest/tests/data/...\n",
       "1  sample_2  /Users/austinmckay/code/cellforest/tests/data/..."
      ]
     },
     "execution_count": 58,
     "metadata": {},
     "output_type": "execute_result"
    }
   ],
   "source": [
    "df = pd.read_csv(\"tests/data/sample_metadata.tsv\", sep=\"\\t\")\n",
    "df.head()"
   ]
  },
  {
   "cell_type": "markdown",
   "metadata": {},
   "source": [
    "TODO: more samples"
   ]
  },
  {
   "cell_type": "code",
   "execution_count": 60,
   "metadata": {},
   "outputs": [],
   "source": [
    "df = pd.DataFrame({\"entity_id\": [\"sample_1\"], \"path_rna\": [\"/Users/austinmckay/code/cellforest/tests/data/filtered_gene_bc_matrices/hg19/\"]})"
   ]
  },
  {
   "cell_type": "markdown",
   "metadata": {},
   "source": [
    "### Create a Branch"
   ]
  },
  {
   "cell_type": "markdown",
   "metadata": {},
   "source": [
    "The branch requires a `root`, or a directory where all datasets are combined into a single matrix. From here, plotting, QC, data subsetting, and further processing can be done."
   ]
  },
  {
   "cell_type": "markdown",
   "metadata": {},
   "source": [
    "Specify a directory for the root. Use any directory -- it will be created if it doesn't yet exist"
   ]
  },
  {
   "cell_type": "code",
   "execution_count": 61,
   "metadata": {},
   "outputs": [],
   "source": [
    "example_dir = \"tests/data/example_usage\""
   ]
  },
  {
   "cell_type": "code",
   "execution_count": 62,
   "metadata": {},
   "outputs": [],
   "source": [
    "root_path = f\"{example_dir}/root\""
   ]
  },
  {
   "cell_type": "markdown",
   "metadata": {},
   "source": [
    "Use the `from_sample_metadata` function to combine the input datasets specified in `meta` into the `root_dir` and instantiate a branch (`CellBranch`) object from it."
   ]
  },
  {
   "cell_type": "markdown",
   "metadata": {},
   "source": [
    "This is only required the first time, however, as the combined data has been saved to `root_path`. Once the root has been created, `cf.load` can be used in subsequent sessions."
   ]
  },
  {
   "cell_type": "code",
   "execution_count": 64,
   "metadata": {},
   "outputs": [],
   "source": [
    "br = cf.from_sample_metadata(root_path, df)\n",
    "# br = cf.load(root_path)"
   ]
  },
  {
   "cell_type": "code",
   "execution_count": 65,
   "metadata": {},
   "outputs": [
    {
     "data": {
      "text/plain": [
       "<cellforest.templates.CellBranch.CellBranch at 0x13461c490>"
      ]
     },
     "execution_count": 65,
     "metadata": {},
     "output_type": "execute_result"
    }
   ],
   "source": [
    "br"
   ]
  },
  {
   "cell_type": "markdown",
   "metadata": {},
   "source": [
    "Note: If you find yourself grievously impovrished of metadata, you can replace `from_sample_metadata` with `from_input_dirs`, passing a list of paths to 10X outs dirs rather than a dataframe as the second arg."
   ]
  },
  {
   "cell_type": "markdown",
   "metadata": {},
   "source": [
    "### Branch Files"
   ]
  },
  {
   "cell_type": "code",
   "execution_count": 13,
   "metadata": {},
   "outputs": [
    {
     "name": "stdout",
     "output_type": "stream",
     "text": [
      "\u001b[1m\u001b[36m_logs\u001b[m\u001b[m/      meta.tsv    rna.pickle  rna.rds\n"
     ]
    }
   ],
   "source": [
    "ls {root_dir}"
   ]
  },
  {
   "cell_type": "markdown",
   "metadata": {},
   "source": [
    "- `_logs`: contains logs\n",
    "- `meta.tsv`: supplied metadata (`df` in this notebook), but expanded to contain a row for each cell\n",
    "- `rna.pickle`: python version of sparse matrix for use by `cellforest`\n",
    "- `rna.rds`: Seurat version of sparse matrix and metadata for use by `cellforestR`"
   ]
  },
  {
   "cell_type": "markdown",
   "metadata": {},
   "source": [
    "### Metadata"
   ]
  },
  {
   "cell_type": "markdown",
   "metadata": {},
   "source": [
    "The metadata is accessible via the `CellBranch.meta` attribute. Any columns in the dataframe passed to `from_sample_metadata` less `path_rna` will appear here as well as any data generated during downstream processing."
   ]
  },
  {
   "cell_type": "code",
   "execution_count": 15,
   "metadata": {},
   "outputs": [
    {
     "data": {
      "text/html": [
       "<div>\n",
       "<style scoped>\n",
       "    .dataframe tbody tr th:only-of-type {\n",
       "        vertical-align: middle;\n",
       "    }\n",
       "\n",
       "    .dataframe tbody tr th {\n",
       "        vertical-align: top;\n",
       "    }\n",
       "\n",
       "    .dataframe thead th {\n",
       "        text-align: right;\n",
       "    }\n",
       "</style>\n",
       "<table border=\"1\" class=\"dataframe\">\n",
       "  <thead>\n",
       "    <tr style=\"text-align: right;\">\n",
       "      <th></th>\n",
       "      <th>entity_id</th>\n",
       "    </tr>\n",
       "  </thead>\n",
       "  <tbody>\n",
       "    <tr>\n",
       "      <th>AAACATACAACCAC-sample_1</th>\n",
       "      <td>sample_1</td>\n",
       "    </tr>\n",
       "    <tr>\n",
       "      <th>AAACATTGAGCTAC-sample_1</th>\n",
       "      <td>sample_1</td>\n",
       "    </tr>\n",
       "    <tr>\n",
       "      <th>AAACATTGATCAGC-sample_1</th>\n",
       "      <td>sample_1</td>\n",
       "    </tr>\n",
       "    <tr>\n",
       "      <th>AAACCGTGCTTCCG-sample_1</th>\n",
       "      <td>sample_1</td>\n",
       "    </tr>\n",
       "    <tr>\n",
       "      <th>AAACCGTGTATGCG-sample_1</th>\n",
       "      <td>sample_1</td>\n",
       "    </tr>\n",
       "    <tr>\n",
       "      <th>...</th>\n",
       "      <td>...</td>\n",
       "    </tr>\n",
       "    <tr>\n",
       "      <th>ATACCGGACTTCGC-sample_2</th>\n",
       "      <td>sample_2</td>\n",
       "    </tr>\n",
       "    <tr>\n",
       "      <th>ATACCGGAGGTGTT-sample_2</th>\n",
       "      <td>sample_2</td>\n",
       "    </tr>\n",
       "    <tr>\n",
       "      <th>ATACCGGATCTCGC-sample_2</th>\n",
       "      <td>sample_2</td>\n",
       "    </tr>\n",
       "    <tr>\n",
       "      <th>ATACCTACGCATCA-sample_2</th>\n",
       "      <td>sample_2</td>\n",
       "    </tr>\n",
       "    <tr>\n",
       "      <th>ATACCTTGGGGCAA-sample_2</th>\n",
       "      <td>sample_2</td>\n",
       "    </tr>\n",
       "  </tbody>\n",
       "</table>\n",
       "<p>600 rows × 1 columns</p>\n",
       "</div>"
      ],
      "text/plain": [
       "                        entity_id\n",
       "AAACATACAACCAC-sample_1  sample_1\n",
       "AAACATTGAGCTAC-sample_1  sample_1\n",
       "AAACATTGATCAGC-sample_1  sample_1\n",
       "AAACCGTGCTTCCG-sample_1  sample_1\n",
       "AAACCGTGTATGCG-sample_1  sample_1\n",
       "...                           ...\n",
       "ATACCGGACTTCGC-sample_2  sample_2\n",
       "ATACCGGAGGTGTT-sample_2  sample_2\n",
       "ATACCGGATCTCGC-sample_2  sample_2\n",
       "ATACCTACGCATCA-sample_2  sample_2\n",
       "ATACCTTGGGGCAA-sample_2  sample_2\n",
       "\n",
       "[600 rows x 1 columns]"
      ]
     },
     "execution_count": 15,
     "metadata": {},
     "output_type": "execute_result"
    }
   ],
   "source": [
    "br.meta"
   ]
  },
  {
   "cell_type": "markdown",
   "metadata": {},
   "source": [
    "TODO: metadata modification"
   ]
  },
  {
   "cell_type": "markdown",
   "metadata": {},
   "source": [
    "### Matrix"
   ]
  },
  {
   "cell_type": "markdown",
   "metadata": {},
   "source": [
    "The counts matrix is a `Counts` object of cells x genes, which is a wrapper around a scipy sparse matrix"
   ]
  },
  {
   "cell_type": "code",
   "execution_count": 16,
   "metadata": {},
   "outputs": [
    {
     "data": {
      "text/plain": [
       "<class 'cellforest.structures.counts.Counts.Counts'>: [cell_ids x genes] matrix\n",
       "<600x150 sparse matrix of type '<class 'numpy.float64'>'\n",
       "\twith 2104 stored elements in Compressed Sparse Row format>"
      ]
     },
     "execution_count": 16,
     "metadata": {},
     "output_type": "execute_result"
    }
   ],
   "source": [
    "br.rna"
   ]
  },
  {
   "cell_type": "markdown",
   "metadata": {},
   "source": [
    "It has most of the standard scipy sparse matrix functionality"
   ]
  },
  {
   "cell_type": "code",
   "execution_count": 33,
   "metadata": {},
   "outputs": [
    {
     "data": {
      "text/plain": [
       "matrix([[0., 0., 0., 0., 0., 1., 0., 0., 0., 0.]])"
      ]
     },
     "execution_count": 33,
     "metadata": {},
     "output_type": "execute_result"
    }
   ],
   "source": [
    "br.rna.sum(axis=0)[:, :10]"
   ]
  },
  {
   "cell_type": "code",
   "execution_count": 34,
   "metadata": {},
   "outputs": [
    {
     "data": {
      "text/plain": [
       "(600, 150)"
      ]
     },
     "execution_count": 34,
     "metadata": {},
     "output_type": "execute_result"
    }
   ],
   "source": [
    "br.rna.shape"
   ]
  },
  {
   "cell_type": "markdown",
   "metadata": {},
   "source": [
    "The matrix can be easily sliced via cell barcodes, gene names, ensembl IDs (if present), or numerical indices."
   ]
  },
  {
   "cell_type": "code",
   "execution_count": 17,
   "metadata": {},
   "outputs": [
    {
     "data": {
      "text/plain": [
       "<class 'cellforest.structures.counts.Counts.Counts'>: [cell_ids x genes] matrix\n",
       "<1x150 sparse matrix of type '<class 'numpy.float64'>'\n",
       "\twith 1 stored elements in Compressed Sparse Row format>"
      ]
     },
     "execution_count": 17,
     "metadata": {},
     "output_type": "execute_result"
    }
   ],
   "source": [
    "br.rna[\"AAACATACAACCAC-sample_1\"]"
   ]
  },
  {
   "cell_type": "code",
   "execution_count": 21,
   "metadata": {},
   "outputs": [
    {
     "data": {
      "text/plain": [
       "<class 'cellforest.structures.counts.Counts.Counts'>: [cell_ids x genes] matrix\n",
       "<10x3 sparse matrix of type '<class 'numpy.float64'>'\n",
       "\twith 0 stored elements in Compressed Sparse Row format>"
      ]
     },
     "execution_count": 21,
     "metadata": {},
     "output_type": "execute_result"
    }
   ],
   "source": [
    "br.rna[:10, [\"CCDC27\", \"SMIM1\", \"CEP104\"]]"
   ]
  },
  {
   "cell_type": "markdown",
   "metadata": {},
   "source": [
    "The row and column indices can be inspected via `cell_ids` and `genes`"
   ]
  },
  {
   "cell_type": "code",
   "execution_count": 25,
   "metadata": {},
   "outputs": [
    {
     "data": {
      "text/plain": [
       "0    AAACATACAACCAC-sample_1\n",
       "1    AAACATTGAGCTAC-sample_1\n",
       "2    AAACATTGATCAGC-sample_1\n",
       "3    AAACCGTGCTTCCG-sample_1\n",
       "4    AAACCGTGTATGCG-sample_1\n",
       "Name: 0, dtype: object"
      ]
     },
     "execution_count": 25,
     "metadata": {},
     "output_type": "execute_result"
    }
   ],
   "source": [
    "br.rna.cell_ids.head()"
   ]
  },
  {
   "cell_type": "code",
   "execution_count": 26,
   "metadata": {},
   "outputs": [
    {
     "data": {
      "text/plain": [
       "0      MIR1302-10\n",
       "1         FAM138A\n",
       "2           OR4F5\n",
       "3    RP11-34P13.7\n",
       "4    RP11-34P13.8\n",
       "Name: genes, dtype: object"
      ]
     },
     "execution_count": 26,
     "metadata": {},
     "output_type": "execute_result"
    }
   ],
   "source": [
    "br.rna.genes.head()"
   ]
  },
  {
   "cell_type": "markdown",
   "metadata": {},
   "source": [
    "Additional plotting functions can be found in `advanced_usage.ipynb`"
   ]
  },
  {
   "cell_type": "markdown",
   "metadata": {},
   "source": [
    "# Processing"
   ]
  },
  {
   "cell_type": "markdown",
   "metadata": {},
   "source": [
    "### Spec"
   ]
  },
  {
   "cell_type": "markdown",
   "metadata": {},
   "source": [
    "A set or process steps is defined by a `branch_spec`, which is a list of dictionaries, each dictionary representing the specification for a given process, and the order of the list representing the order of execution. The keys in each dictionary tell the process how to execute."
   ]
  },
  {
   "cell_type": "markdown",
   "metadata": {},
   "source": [
    "Rather than attempting to remember the structure of the `branch_spec`, one can start with the provided example and modify it as needed."
   ]
  },
  {
   "cell_type": "code",
   "execution_count": 36,
   "metadata": {},
   "outputs": [
    {
     "data": {
      "text/plain": [
       "[{'_PROCESS_': 'normalize',\n",
       "  '_PARAMS_': {'min_genes': 0,\n",
       "   'max_genes': 37000,\n",
       "   'min_cells': 3,\n",
       "   'nfeatures': 3000,\n",
       "   'perc_mito_cutoff': 100,\n",
       "   'method': 'seurat_default'}},\n",
       " {'_PROCESS_': 'reduce',\n",
       "  '_PARAMS_': {'pca_npcs': 30,\n",
       "   'umap_n_neighbors': 30,\n",
       "   'umap_min_dist': 0.3,\n",
       "   'umap_n_components': 2,\n",
       "   'umap_metric': 'correlation'}},\n",
       " {'_PROCESS_': 'cluster', '_PARAMS_': {'num_pcs': 3, 'res': 0.5, 'eps': 0.1}},\n",
       " {'_PROCESS_': 'markers',\n",
       "  '_PARAMS_': {'logfc_thresh': 0.25, 'test': 'wilcox'}}]"
      ]
     },
     "execution_count": 36,
     "metadata": {},
     "output_type": "execute_result"
    }
   ],
   "source": [
    "spec = cf.defaults.spec_markers\n",
    "spec"
   ]
  },
  {
   "cell_type": "markdown",
   "metadata": {},
   "source": [
    "The keys in this default spec are:\n",
    "- `_PROCESS_`: the name of the process to be executed\n",
    "- `_PARAMS_`: a dict of params to be fed to that process\n",
    "Additionally, keys can be specified to subset, filter, or partition the cells based on columns in the metadata before it's passed to the process.\n",
    "- `_SUBSET_`: a dict of column names and accepted column values. For example: `{\"entity_id\": \"sample_1\"}`. To accept multiple values for a given column, provide a list of accepted values, and to subset by multiple columns, use multiple keys\n",
    "- `_FILTER_`: same as `_SUBSET_`, but rather than specified values being kept, they are removed. Be default, if multiple keys are provided, each filter is applied separately. The `_MULTI_` key can be used to apply multiple filters jointly, which is covered in `advanced_usage.ipynb`.\n",
    "\n",
    "Note that subsets and filters will persist into any downstream processes of that in which they're specified."
   ]
  },
  {
   "cell_type": "markdown",
   "metadata": {},
   "source": [
    "For `normalize`, the `_PARAMS_` show that it doesn't do filtering by minimum expressed genes or percent mitochondrial UMIs, which is a good choice for a first pass analysis to do QC and get a lay of the land. Let's pretend that we've already done this, and want to set a mitochondrial filtering threshold of 25% for our branch. "
   ]
  },
  {
   "cell_type": "code",
   "execution_count": 37,
   "metadata": {},
   "outputs": [],
   "source": [
    "spec[1][\"_PARAMS_\"][\"perc_mito_cutoff\"] = 25"
   ]
  },
  {
   "cell_type": "markdown",
   "metadata": {},
   "source": [
    "Our current branch has no `branch_spec`, only the root, so it isn't actually ready for processing. To make a processing-ready branch, we must supply this information"
   ]
  },
  {
   "cell_type": "code",
   "execution_count": 44,
   "metadata": {},
   "outputs": [],
   "source": [
    "br = cf.load(root_path, branch_spec=spec)"
   ]
  },
  {
   "cell_type": "code",
   "execution_count": 45,
   "metadata": {},
   "outputs": [
    {
     "data": {
      "text/plain": [
       "[{'_PROCESS_': 'normalize',\n",
       "  '_PARAMS_': {'min_genes': 0,\n",
       "   'max_genes': 37000,\n",
       "   'min_cells': 3,\n",
       "   'nfeatures': 3000,\n",
       "   'perc_mito_cutoff': 100,\n",
       "   'method': 'seurat_default'}},\n",
       " {'_PROCESS_': 'reduce',\n",
       "  '_PARAMS_': {'pca_npcs': 30,\n",
       "   'umap_n_neighbors': 30,\n",
       "   'umap_min_dist': 0.3,\n",
       "   'umap_n_components': 2,\n",
       "   'umap_metric': 'correlation',\n",
       "   'perc_mito_cutoff': 25}},\n",
       " {'_PROCESS_': 'cluster', '_PARAMS_': {'num_pcs': 3, 'res': 0.5, 'eps': 0.1}},\n",
       " {'_PROCESS_': 'markers',\n",
       "  '_PARAMS_': {'logfc_thresh': 0.25, 'test': 'wilcox'}}]"
      ]
     },
     "execution_count": 45,
     "metadata": {},
     "output_type": "execute_result"
    }
   ],
   "source": [
    "br.spec"
   ]
  },
  {
   "cell_type": "markdown",
   "metadata": {},
   "source": [
    "### Process Execution"
   ]
  },
  {
   "cell_type": "markdown",
   "metadata": {},
   "source": [
    "Now we can access the processes via the `CellBranch.process` attribute"
   ]
  },
  {
   "cell_type": "code",
   "execution_count": 46,
   "metadata": {},
   "outputs": [
    {
     "name": "stderr",
     "output_type": "stream",
     "text": [
      "WARNING:root:Plot map for 'normalize' is undefined, skipping plots hook\n"
     ]
    }
   ],
   "source": [
    "br.process.normalize()"
   ]
  },
  {
   "cell_type": "markdown",
   "metadata": {},
   "source": [
    "Note: `stop_on_error=True` and `stop_on_hook_error=True` may be helpful arguments for debugging."
   ]
  },
  {
   "cell_type": "markdown",
   "metadata": {},
   "source": [
    "### Branch Nodes"
   ]
  },
  {
   "cell_type": "markdown",
   "metadata": {},
   "source": [
    "We are now at the second node on our `CellBranch`, the first being `root`."
   ]
  },
  {
   "cell_type": "code",
   "execution_count": 48,
   "metadata": {},
   "outputs": [
    {
     "data": {
      "text/plain": [
       "'normalize'"
      ]
     },
     "execution_count": 48,
     "metadata": {},
     "output_type": "execute_result"
    }
   ],
   "source": [
    "br.current_process"
   ]
  },
  {
   "cell_type": "markdown",
   "metadata": {},
   "source": [
    "We can use the bracket syntax to access an object which contains information about a given node in the branch."
   ]
  },
  {
   "cell_type": "code",
   "execution_count": 49,
   "metadata": {},
   "outputs": [
    {
     "data": {
      "text/plain": [
       "PosixPath('tests/data/example_usage/root')"
      ]
     },
     "execution_count": 49,
     "metadata": {},
     "output_type": "execute_result"
    }
   ],
   "source": [
    "br[\"root\"].path"
   ]
  },
  {
   "cell_type": "code",
   "execution_count": 50,
   "metadata": {},
   "outputs": [
    {
     "data": {
      "text/plain": [
       "PosixPath('tests/data/example_usage/root/normalize/eZcx25Xs')"
      ]
     },
     "execution_count": 50,
     "metadata": {},
     "output_type": "execute_result"
    }
   ],
   "source": [
    "br[\"normalize\"].path"
   ]
  },
  {
   "cell_type": "markdown",
   "metadata": {},
   "source": [
    "Note that the directories of the two nodes differ by `normalize/<hash ID>`. While the hash may look to be an attempt to protect cellforest internals from miscreant meddlings\n"
   ]
  }
 ],
 "metadata": {
  "kernelspec": {
   "display_name": "Python 3",
   "language": "python",
   "name": "python3"
  },
  "language_info": {
   "codemirror_mode": {
    "name": "ipython",
    "version": 3
   },
   "file_extension": ".py",
   "mimetype": "text/x-python",
   "name": "python",
   "nbconvert_exporter": "python",
   "pygments_lexer": "ipython3",
   "version": "3.8.3"
  }
 },
 "nbformat": 4,
 "nbformat_minor": 4
}
