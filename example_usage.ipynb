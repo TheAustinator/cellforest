{
 "cells": [
  {
   "cell_type": "code",
   "execution_count": 1,
   "metadata": {
    "collapsed": true,
    "jupyter": {
     "outputs_hidden": true
    },
    "tags": []
   },
   "outputs": [
    {
     "output_type": "stream",
     "name": "stdout",
     "text": "Obtaining file:///Users/Munchic/Developer/TRex/dataforest\n  Installing build dependencies ... \u001b[?25ldone\n\u001b[?25h  Getting requirements to build wheel ... \u001b[?25ldone\n\u001b[?25h    Preparing wheel metadata ... \u001b[?25ldone\n\u001b[?25hRequirement already satisfied: pandas in /Users/Munchic/.local/share/virtualenvs/cellforest-vHBhnHUD/lib/python3.8/site-packages (from dataforest==0.0.1) (1.0.5)\nRequirement already satisfied: termcolor in /Users/Munchic/.local/share/virtualenvs/cellforest-vHBhnHUD/lib/python3.8/site-packages (from dataforest==0.0.1) (1.1.0)\nRequirement already satisfied: numpy in /Users/Munchic/.local/share/virtualenvs/cellforest-vHBhnHUD/lib/python3.8/site-packages (from dataforest==0.0.1) (1.19.0)\nRequirement already satisfied: matplotlib in /Users/Munchic/.local/share/virtualenvs/cellforest-vHBhnHUD/lib/python3.8/site-packages (from dataforest==0.0.1) (3.2.2)\nRequirement already satisfied: pyyaml in /Users/Munchic/.local/share/virtualenvs/cellforest-vHBhnHUD/lib/python3.8/site-packages (from dataforest==0.0.1) (5.3.1)\nRequirement already satisfied: pathlib in /Users/Munchic/.local/share/virtualenvs/cellforest-vHBhnHUD/lib/python3.8/site-packages (from dataforest==0.0.1) (1.0.1)\nRequirement already satisfied: pytz>=2017.2 in /Users/Munchic/.local/share/virtualenvs/cellforest-vHBhnHUD/lib/python3.8/site-packages (from pandas->dataforest==0.0.1) (2020.1)\nRequirement already satisfied: python-dateutil>=2.6.1 in /Users/Munchic/.local/share/virtualenvs/cellforest-vHBhnHUD/lib/python3.8/site-packages (from pandas->dataforest==0.0.1) (2.8.1)\nRequirement already satisfied: pyparsing!=2.0.4,!=2.1.2,!=2.1.6,>=2.0.1 in /Users/Munchic/.local/share/virtualenvs/cellforest-vHBhnHUD/lib/python3.8/site-packages (from matplotlib->dataforest==0.0.1) (2.4.7)\nRequirement already satisfied: kiwisolver>=1.0.1 in /Users/Munchic/.local/share/virtualenvs/cellforest-vHBhnHUD/lib/python3.8/site-packages (from matplotlib->dataforest==0.0.1) (1.2.0)\nRequirement already satisfied: cycler>=0.10 in /Users/Munchic/.local/share/virtualenvs/cellforest-vHBhnHUD/lib/python3.8/site-packages (from matplotlib->dataforest==0.0.1) (0.10.0)\nRequirement already satisfied: six>=1.5 in /Users/Munchic/.local/share/virtualenvs/cellforest-vHBhnHUD/lib/python3.8/site-packages (from python-dateutil>=2.6.1->pandas->dataforest==0.0.1) (1.15.0)\nInstalling collected packages: dataforest\n  Attempting uninstall: dataforest\n    Found existing installation: dataforest 0.0.1\n    Uninstalling dataforest-0.0.1:\n      Successfully uninstalled dataforest-0.0.1\n  Running setup.py develop for dataforest\nSuccessfully installed dataforest\nNote: you may need to restart the kernel to use updated packages.\n"
    }
   ],
   "source": [
    "pip install -e ../dataforest"
   ]
  },
  {
   "cell_type": "code",
   "execution_count": 2,
   "metadata": {
    "collapsed": true,
    "jupyter": {
     "outputs_hidden": true
    },
    "tags": []
   },
   "outputs": [
    {
     "output_type": "stream",
     "name": "stdout",
     "text": "Obtaining file:///Users/Munchic/Developer/TRex/cellforest\n  Installing build dependencies ... \u001b[?25ldone\n\u001b[?25h  Getting requirements to build wheel ... \u001b[?25ldone\n\u001b[?25h    Preparing wheel metadata ... \u001b[?25ldone\n\u001b[?25hRequirement already satisfied: pathlib in /Users/Munchic/.local/share/virtualenvs/cellforest-vHBhnHUD/lib/python3.8/site-packages (from cellforest==0.0.1) (1.0.1)\nRequirement already satisfied: numpy in /Users/Munchic/.local/share/virtualenvs/cellforest-vHBhnHUD/lib/python3.8/site-packages (from cellforest==0.0.1) (1.19.0)\nRequirement already satisfied: pyyaml in /Users/Munchic/.local/share/virtualenvs/cellforest-vHBhnHUD/lib/python3.8/site-packages (from cellforest==0.0.1) (5.3.1)\nRequirement already satisfied: scipy in /Users/Munchic/.local/share/virtualenvs/cellforest-vHBhnHUD/lib/python3.8/site-packages (from cellforest==0.0.1) (1.5.1)\nRequirement already satisfied: pandas in /Users/Munchic/.local/share/virtualenvs/cellforest-vHBhnHUD/lib/python3.8/site-packages (from cellforest==0.0.1) (1.0.5)\nRequirement already satisfied: matplotlib in /Users/Munchic/.local/share/virtualenvs/cellforest-vHBhnHUD/lib/python3.8/site-packages (from cellforest==0.0.1) (3.2.2)\nRequirement already satisfied: python-dateutil>=2.6.1 in /Users/Munchic/.local/share/virtualenvs/cellforest-vHBhnHUD/lib/python3.8/site-packages (from pandas->cellforest==0.0.1) (2.8.1)\nRequirement already satisfied: pytz>=2017.2 in /Users/Munchic/.local/share/virtualenvs/cellforest-vHBhnHUD/lib/python3.8/site-packages (from pandas->cellforest==0.0.1) (2020.1)\nRequirement already satisfied: cycler>=0.10 in /Users/Munchic/.local/share/virtualenvs/cellforest-vHBhnHUD/lib/python3.8/site-packages (from matplotlib->cellforest==0.0.1) (0.10.0)\nRequirement already satisfied: pyparsing!=2.0.4,!=2.1.2,!=2.1.6,>=2.0.1 in /Users/Munchic/.local/share/virtualenvs/cellforest-vHBhnHUD/lib/python3.8/site-packages (from matplotlib->cellforest==0.0.1) (2.4.7)\nRequirement already satisfied: kiwisolver>=1.0.1 in /Users/Munchic/.local/share/virtualenvs/cellforest-vHBhnHUD/lib/python3.8/site-packages (from matplotlib->cellforest==0.0.1) (1.2.0)\nRequirement already satisfied: six>=1.5 in /Users/Munchic/.local/share/virtualenvs/cellforest-vHBhnHUD/lib/python3.8/site-packages (from python-dateutil>=2.6.1->pandas->cellforest==0.0.1) (1.15.0)\nInstalling collected packages: cellforest\n  Attempting uninstall: cellforest\n    Found existing installation: cellforest 0.0.1\n    Uninstalling cellforest-0.0.1:\n      Successfully uninstalled cellforest-0.0.1\n  Running setup.py develop for cellforest\nSuccessfully installed cellforest\nNote: you may need to restart the kernel to use updated packages.\n"
    }
   ],
   "source": [
    "pip install -e ."
   ]
  },
  {
   "cell_type": "code",
   "execution_count": 19,
   "metadata": {},
   "outputs": [
    {
     "name": "stdout",
     "output_type": "stream",
     "text": [
      "/bin/sh: apt-get: command not found\n"
     ]
    }
   ],
   "source": [
    "# install tree (filesystem viewer used later)\n",
    "!brew install tree"
   ]
  },
  {
   "cell_type": "code",
   "execution_count": 9,
   "metadata": {},
   "outputs": [],
   "source": [
    "%load_ext autoreload\n",
    "%autoreload 2\n",
    "\n",
    "import cellforest\n",
    "from cellforest import Counts\n",
    "import pandas as pd\n",
    "from pathlib import Path"
   ]
  },
  {
   "cell_type": "markdown",
   "metadata": {},
   "source": [
    "# Load Sample Data"
   ]
  },
  {
   "cell_type": "code",
   "execution_count": 26,
   "metadata": {},
   "outputs": [],
   "source": [
    "cellranger_dir = Path(\"tests/data/v3_gz/sample_1\")"
   ]
  },
  {
   "cell_type": "code",
   "execution_count": 3,
   "metadata": {},
   "outputs": [],
   "source": [
    "from tests.utils.get_test_data import get_test_data\n",
    "if not cellranger_dir.exists():\n",
    "    get_test_data()\n",
    "    if not cellrangder_dir.exists():\n",
    "        raise ValueError(\"Notebook must be updated to conform to `get_test_data`\")"
   ]
  },
  {
   "cell_type": "code",
   "execution_count": 7,
   "metadata": {},
   "outputs": [
    {
     "name": "stdout",
     "output_type": "stream",
     "text": [
      "barcodes.tsv.gz  features.tsv.gz  matrix.mtx.gz\n"
     ]
    }
   ],
   "source": [
    "ls {cellranger_dir}"
   ]
  },
  {
   "cell_type": "markdown",
   "metadata": {},
   "source": [
    "# Quick Start"
   ]
  },
  {
   "cell_type": "markdown",
   "metadata": {},
   "source": [
    "## Specify root of working directory tree"
   ]
  },
  {
   "cell_type": "markdown",
   "metadata": {},
   "source": [
    "Use any directory, doesn't have to exist yet"
   ]
  },
  {
   "cell_type": "code",
   "execution_count": 27,
   "metadata": {},
   "outputs": [],
   "source": [
    "example_dir = \"tests/data/example_usage\""
   ]
  },
  {
   "cell_type": "code",
   "execution_count": 28,
   "metadata": {},
   "outputs": [],
   "source": [
    "root_dir = f\"{example_dir}/root\""
   ]
  },
  {
   "cell_type": "markdown",
   "metadata": {},
   "source": [
    "# Counts Matrix"
   ]
  },
  {
   "cell_type": "markdown",
   "metadata": {},
   "source": [
    "The counts matrix is a cells x genes matrix, built as a wrapper around `scipy.sparse.csr_matrix`. \n",
    "\n",
    "This data structure is central to the functionality of cellforest, so it's important to understand how it works. When using cellforest, you normally won't load/save it directly, but rather let cellforest handle that. However, if you don't need to automate workflows, and just want to do some counts matrix analysis outside of cellforest, you may want to instantiate it directly."
   ]
  },
  {
   "cell_type": "markdown",
   "metadata": {},
   "source": [
    "### Load from cellranger"
   ]
  },
  {
   "cell_type": "markdown",
   "metadata": {},
   "source": [
    "`Counts` objects can be instantiated directly from cellranger outputs"
   ]
  },
  {
   "cell_type": "code",
   "execution_count": 9,
   "metadata": {},
   "outputs": [],
   "source": [
    "rna = Counts.from_cellranger(cellranger_dir)"
   ]
  },
  {
   "cell_type": "code",
   "execution_count": 10,
   "metadata": {},
   "outputs": [
    {
     "data": {
      "text/plain": [
       "<class 'cellforest.structures.Counts.Counts'>: [cell_ids x genes] matrix\n",
       "<200x100 sparse matrix of type '<class 'numpy.float64'>'\n",
       "\twith 540 stored elements in Compressed Sparse Row format>"
      ]
     },
     "execution_count": 10,
     "metadata": {},
     "output_type": "execute_result"
    }
   ],
   "source": [
    "rna"
   ]
  },
  {
   "cell_type": "markdown",
   "metadata": {},
   "source": [
    "### Data attributes"
   ]
  },
  {
   "cell_type": "markdown",
   "metadata": {},
   "source": [
    "The sparse matrix is stored in the `_matrix` attribute, which you generally shouldn't interact with directly. The `Counts` object has inherited most of the relevant methods of `csr_matrix`, so you can still do relevant calculations"
   ]
  },
  {
   "cell_type": "code",
   "execution_count": 11,
   "metadata": {},
   "outputs": [
    {
     "data": {
      "text/plain": [
       "(200, 100)"
      ]
     },
     "execution_count": 11,
     "metadata": {},
     "output_type": "execute_result"
    }
   ],
   "source": [
    "rna.shape"
   ]
  },
  {
   "cell_type": "code",
   "execution_count": 12,
   "metadata": {},
   "outputs": [
    {
     "data": {
      "text/plain": [
       "828.0"
      ]
     },
     "execution_count": 12,
     "metadata": {},
     "output_type": "execute_result"
    }
   ],
   "source": [
    "rna.sum()"
   ]
  },
  {
   "cell_type": "markdown",
   "metadata": {},
   "source": [
    "The genes and ensembl IDs are stored in `features`, and can also be accessed via `genes` and `ensgs`, respectively. These function as the column index for the matrix. Genes can also be accessed via `columns` (like pandas). Note that the enseml IDs will be stripped in any data downstream of a Seurat process, since Seurat lacks ensembl support."
   ]
  },
  {
   "cell_type": "code",
   "execution_count": 13,
   "metadata": {},
   "outputs": [
    {
     "data": {
      "text/html": [
       "<div>\n",
       "<style scoped>\n",
       "    .dataframe tbody tr th:only-of-type {\n",
       "        vertical-align: middle;\n",
       "    }\n",
       "\n",
       "    .dataframe tbody tr th {\n",
       "        vertical-align: top;\n",
       "    }\n",
       "\n",
       "    .dataframe thead th {\n",
       "        text-align: right;\n",
       "    }\n",
       "</style>\n",
       "<table border=\"1\" class=\"dataframe\">\n",
       "  <thead>\n",
       "    <tr style=\"text-align: right;\">\n",
       "      <th></th>\n",
       "      <th>ensgs</th>\n",
       "      <th>genes</th>\n",
       "    </tr>\n",
       "  </thead>\n",
       "  <tbody>\n",
       "    <tr>\n",
       "      <th>0</th>\n",
       "      <td>ENSG00000243485</td>\n",
       "      <td>MIR1302-10</td>\n",
       "    </tr>\n",
       "    <tr>\n",
       "      <th>1</th>\n",
       "      <td>ENSG00000237613</td>\n",
       "      <td>FAM138A</td>\n",
       "    </tr>\n",
       "    <tr>\n",
       "      <th>2</th>\n",
       "      <td>ENSG00000186092</td>\n",
       "      <td>OR4F5</td>\n",
       "    </tr>\n",
       "    <tr>\n",
       "      <th>3</th>\n",
       "      <td>ENSG00000238009</td>\n",
       "      <td>RP11-34P13.7</td>\n",
       "    </tr>\n",
       "    <tr>\n",
       "      <th>4</th>\n",
       "      <td>ENSG00000239945</td>\n",
       "      <td>RP11-34P13.8</td>\n",
       "    </tr>\n",
       "  </tbody>\n",
       "</table>\n",
       "</div>"
      ],
      "text/plain": [
       "             ensgs         genes\n",
       "0  ENSG00000243485    MIR1302-10\n",
       "1  ENSG00000237613       FAM138A\n",
       "2  ENSG00000186092         OR4F5\n",
       "3  ENSG00000238009  RP11-34P13.7\n",
       "4  ENSG00000239945  RP11-34P13.8"
      ]
     },
     "execution_count": 13,
     "metadata": {},
     "output_type": "execute_result"
    }
   ],
   "source": [
    "rna.features.head()"
   ]
  },
  {
   "cell_type": "markdown",
   "metadata": {},
   "source": [
    "The 10X cell barcodes are stored in `cell_ids`, which can also be accessed via `index` (like pandas)"
   ]
  },
  {
   "cell_type": "code",
   "execution_count": 14,
   "metadata": {},
   "outputs": [
    {
     "data": {
      "text/plain": [
       "0    AAACATACAACCAC-1\n",
       "1    AAACATTGAGCTAC-1\n",
       "2    AAACATTGATCAGC-1\n",
       "3    AAACCGTGCTTCCG-1\n",
       "4    AAACCGTGTATGCG-1\n",
       "Name: 0, dtype: object"
      ]
     },
     "execution_count": 14,
     "metadata": {},
     "output_type": "execute_result"
    }
   ],
   "source": [
    "rna.cell_ids.head()"
   ]
  },
  {
   "cell_type": "markdown",
   "metadata": {},
   "source": [
    "### Slicing"
   ]
  },
  {
   "cell_type": "markdown",
   "metadata": {},
   "source": [
    "The matrix can be sliced with integer indices, cell_ids, gene names, or ensembl IDs. The latter three can be presented in the form of strings, lists of strings, or `pandas.Series`. The matrix, features, and cell_ids will all be sliced correspondingly."
   ]
  },
  {
   "cell_type": "code",
   "execution_count": 15,
   "metadata": {},
   "outputs": [
    {
     "data": {
      "text/plain": [
       "<class 'cellforest.structures.Counts.Counts'>: [cell_ids x genes] matrix\n",
       "<10x20 sparse matrix of type '<class 'numpy.float64'>'\n",
       "\twith 0 stored elements in Compressed Sparse Row format>"
      ]
     },
     "execution_count": 15,
     "metadata": {},
     "output_type": "execute_result"
    }
   ],
   "source": [
    "rna[:10, :20]"
   ]
  },
  {
   "cell_type": "code",
   "execution_count": 16,
   "metadata": {},
   "outputs": [
    {
     "data": {
      "text/plain": [
       "<class 'cellforest.structures.Counts.Counts'>: [cell_ids x genes] matrix\n",
       "<1x100 sparse matrix of type '<class 'numpy.float64'>'\n",
       "\twith 1 stored elements in Compressed Sparse Row format>"
      ]
     },
     "execution_count": 16,
     "metadata": {},
     "output_type": "execute_result"
    }
   ],
   "source": [
    "rna[\"AAACATACAACCAC-1\"]"
   ]
  },
  {
   "cell_type": "code",
   "execution_count": 17,
   "metadata": {},
   "outputs": [
    {
     "data": {
      "text/plain": [
       "<class 'cellforest.structures.Counts.Counts'>: [cell_ids x genes] matrix\n",
       "<2x100 sparse matrix of type '<class 'numpy.float64'>'\n",
       "\twith 4 stored elements in Compressed Sparse Row format>"
      ]
     },
     "execution_count": 17,
     "metadata": {},
     "output_type": "execute_result"
    }
   ],
   "source": [
    "rna[[\"AAACATACAACCAC-1\", \"AAACATTGATCAGC-1\"]]"
   ]
  },
  {
   "cell_type": "code",
   "execution_count": 18,
   "metadata": {},
   "outputs": [
    {
     "data": {
      "text/plain": [
       "<class 'cellforest.structures.Counts.Counts'>: [cell_ids x genes] matrix\n",
       "<2x9 sparse matrix of type '<class 'numpy.float64'>'\n",
       "\twith 0 stored elements in Compressed Sparse Row format>"
      ]
     },
     "execution_count": 18,
     "metadata": {},
     "output_type": "execute_result"
    }
   ],
   "source": [
    "rna[[\"AAACATACAACCAC-1\", \"AAACATTGATCAGC-1\"], 1:10]"
   ]
  },
  {
   "cell_type": "code",
   "execution_count": 19,
   "metadata": {},
   "outputs": [
    {
     "data": {
      "text/plain": [
       "<class 'cellforest.structures.Counts.Counts'>: [cell_ids x genes] matrix\n",
       "<200x2 sparse matrix of type '<class 'numpy.float64'>'\n",
       "\twith 0 stored elements in Compressed Sparse Row format>"
      ]
     },
     "execution_count": 19,
     "metadata": {},
     "output_type": "execute_result"
    }
   ],
   "source": [
    "rna[:, [\"MIR1302-10\", \"RP11-34P13.7\"]]"
   ]
  },
  {
   "cell_type": "code",
   "execution_count": 20,
   "metadata": {},
   "outputs": [
    {
     "data": {
      "text/plain": [
       "<class 'cellforest.structures.Counts.Counts'>: [cell_ids x genes] matrix\n",
       "<200x1 sparse matrix of type '<class 'numpy.float64'>'\n",
       "\twith 0 stored elements in Compressed Sparse Row format>"
      ]
     },
     "execution_count": 20,
     "metadata": {},
     "output_type": "execute_result"
    }
   ],
   "source": [
    "rna[:, \"ENSG00000238009\"]"
   ]
  },
  {
   "cell_type": "code",
   "execution_count": 21,
   "metadata": {},
   "outputs": [
    {
     "data": {
      "text/plain": [
       "<class 'cellforest.structures.Counts.Counts'>: [cell_ids x genes] matrix\n",
       "<20x100 sparse matrix of type '<class 'numpy.float64'>'\n",
       "\twith 55 stored elements in Compressed Sparse Row format>"
      ]
     },
     "execution_count": 21,
     "metadata": {},
     "output_type": "execute_result"
    }
   ],
   "source": [
    "rna[rna.cell_ids[:20]]"
   ]
  },
  {
   "cell_type": "markdown",
   "metadata": {},
   "source": [
    "### Plotting"
   ]
  },
  {
   "cell_type": "code",
   "execution_count": 94,
   "metadata": {},
   "outputs": [],
   "source": [
    "# TODO: histogram notimplemented"
   ]
  },
  {
   "cell_type": "code",
   "execution_count": null,
   "metadata": {},
   "outputs": [],
   "source": [
    "# TODO: scatter notimplemented"
   ]
  },
  {
   "cell_type": "markdown",
   "metadata": {},
   "source": [
    "### Concatenation"
   ]
  },
  {
   "cell_type": "markdown",
   "metadata": {},
   "source": [
    "A list of `Counts` objects can be `concatenate`ed, or one or more `Counts` objects can be appended to an existing one. Concatenation can occur along either the cells (`axis=0`) or genes (`axis=1`) dimensions, whereas `append` assumes the cells dimension. `hstack` and `vstack` can be used as alternatives to concatenation along the cells and genes axes, respectively (like numpy)."
   ]
  },
  {
   "cell_type": "code",
   "execution_count": 87,
   "metadata": {},
   "outputs": [
    {
     "data": {
      "text/plain": [
       "<class 'cellforest.structures.Counts.Counts'>: [cell_ids x genes] matrix\n",
       "<40x100 sparse matrix of type '<class 'numpy.float64'>'\n",
       "\twith 106 stored elements in Compressed Sparse Row format>"
      ]
     },
     "execution_count": 87,
     "metadata": {},
     "output_type": "execute_result"
    }
   ],
   "source": [
    "rna_2 = Counts.concatenate([rna[:20], rna[30:50]])\n",
    "rna_2"
   ]
  },
  {
   "cell_type": "code",
   "execution_count": 91,
   "metadata": {},
   "outputs": [
    {
     "data": {
      "text/plain": [
       "<class 'cellforest.structures.Counts.Counts'>: [cell_ids x genes] matrix\n",
       "<200x40 sparse matrix of type '<class 'numpy.float64'>'\n",
       "\twith 134 stored elements in Compressed Sparse Row format>"
      ]
     },
     "execution_count": 91,
     "metadata": {},
     "output_type": "execute_result"
    }
   ],
   "source": [
    "Counts.concatenate([rna[:, :20], rna[:, 30:50]], axis=1)"
   ]
  },
  {
   "cell_type": "code",
   "execution_count": 88,
   "metadata": {},
   "outputs": [
    {
     "data": {
      "text/plain": [
       "<class 'cellforest.structures.Counts.Counts'>: [cell_ids x genes] matrix\n",
       "<80x100 sparse matrix of type '<class 'numpy.float64'>'\n",
       "\twith 209 stored elements in Compressed Sparse Row format>"
      ]
     },
     "execution_count": 88,
     "metadata": {},
     "output_type": "execute_result"
    }
   ],
   "source": [
    "rna_2.append(rna[60:100])"
   ]
  },
  {
   "cell_type": "markdown",
   "metadata": {},
   "source": [
    "`append` is not an `inplace` operation"
   ]
  },
  {
   "cell_type": "code",
   "execution_count": 90,
   "metadata": {},
   "outputs": [
    {
     "data": {
      "text/plain": [
       "<class 'cellforest.structures.Counts.Counts'>: [cell_ids x genes] matrix\n",
       "<40x100 sparse matrix of type '<class 'numpy.float64'>'\n",
       "\twith 106 stored elements in Compressed Sparse Row format>"
      ]
     },
     "execution_count": 90,
     "metadata": {},
     "output_type": "execute_result"
    }
   ],
   "source": [
    "rna_2"
   ]
  },
  {
   "cell_type": "markdown",
   "metadata": {},
   "source": [
    "### Drop"
   ]
  },
  {
   "cell_type": "markdown",
   "metadata": {},
   "source": [
    "We can drop specified cells or genes. This doesn't occur `inplace`"
   ]
  },
  {
   "cell_type": "code",
   "execution_count": 92,
   "metadata": {},
   "outputs": [],
   "source": [
    "# TODO: .drop not implemented"
   ]
  },
  {
   "cell_type": "markdown",
   "metadata": {},
   "source": [
    "We can also drop cells or genes with no UMIs"
   ]
  },
  {
   "cell_type": "code",
   "execution_count": 97,
   "metadata": {},
   "outputs": [
    {
     "data": {
      "text/plain": [
       "<class 'cellforest.structures.Counts.Counts'>: [cell_ids x genes] matrix\n",
       "<185x40 sparse matrix of type '<class 'numpy.float64'>'\n",
       "\twith 540 stored elements in Compressed Sparse Row format>"
      ]
     },
     "execution_count": 97,
     "metadata": {},
     "output_type": "execute_result"
    }
   ],
   "source": [
    "rna.dropna()"
   ]
  },
  {
   "cell_type": "code",
   "execution_count": 98,
   "metadata": {},
   "outputs": [
    {
     "data": {
      "text/plain": [
       "<class 'cellforest.structures.Counts.Counts'>: [cell_ids x genes] matrix\n",
       "<200x40 sparse matrix of type '<class 'numpy.float64'>'\n",
       "\twith 540 stored elements in Compressed Sparse Row format>"
      ]
     },
     "execution_count": 98,
     "metadata": {},
     "output_type": "execute_result"
    }
   ],
   "source": [
    "rna.dropna(axis=1)"
   ]
  },
  {
   "cell_type": "markdown",
   "metadata": {},
   "source": [
    "### I/O"
   ]
  },
  {
   "cell_type": "markdown",
   "metadata": {},
   "source": [
    "**DataFrame (converts to dense)**"
   ]
  },
  {
   "cell_type": "code",
   "execution_count": 100,
   "metadata": {},
   "outputs": [
    {
     "data": {
      "text/html": [
       "<div>\n",
       "<style scoped>\n",
       "    .dataframe tbody tr th:only-of-type {\n",
       "        vertical-align: middle;\n",
       "    }\n",
       "\n",
       "    .dataframe tbody tr th {\n",
       "        vertical-align: top;\n",
       "    }\n",
       "\n",
       "    .dataframe thead th {\n",
       "        text-align: right;\n",
       "    }\n",
       "</style>\n",
       "<table border=\"1\" class=\"dataframe\">\n",
       "  <thead>\n",
       "    <tr style=\"text-align: right;\">\n",
       "      <th>genes</th>\n",
       "      <th>MIR1302-10</th>\n",
       "      <th>FAM138A</th>\n",
       "      <th>OR4F5</th>\n",
       "      <th>RP11-34P13.7</th>\n",
       "      <th>RP11-34P13.8</th>\n",
       "      <th>AL627309.1</th>\n",
       "      <th>RP11-34P13.14</th>\n",
       "      <th>RP11-34P13.9</th>\n",
       "      <th>AP006222.2</th>\n",
       "      <th>RP4-669L17.10</th>\n",
       "      <th>...</th>\n",
       "      <th>RP11-345P4.7</th>\n",
       "      <th>CDK11A</th>\n",
       "      <th>SLC35E2</th>\n",
       "      <th>NADK</th>\n",
       "      <th>GNB1</th>\n",
       "      <th>RP1-140A9.1</th>\n",
       "      <th>CALML6</th>\n",
       "      <th>TMEM52</th>\n",
       "      <th>C1orf222</th>\n",
       "      <th>RP11-547D24.1</th>\n",
       "    </tr>\n",
       "    <tr>\n",
       "      <th>0</th>\n",
       "      <th></th>\n",
       "      <th></th>\n",
       "      <th></th>\n",
       "      <th></th>\n",
       "      <th></th>\n",
       "      <th></th>\n",
       "      <th></th>\n",
       "      <th></th>\n",
       "      <th></th>\n",
       "      <th></th>\n",
       "      <th></th>\n",
       "      <th></th>\n",
       "      <th></th>\n",
       "      <th></th>\n",
       "      <th></th>\n",
       "      <th></th>\n",
       "      <th></th>\n",
       "      <th></th>\n",
       "      <th></th>\n",
       "      <th></th>\n",
       "      <th></th>\n",
       "    </tr>\n",
       "  </thead>\n",
       "  <tbody>\n",
       "    <tr>\n",
       "      <th>AAACATACAACCAC-1</th>\n",
       "      <td>0.0</td>\n",
       "      <td>0.0</td>\n",
       "      <td>0.0</td>\n",
       "      <td>0.0</td>\n",
       "      <td>0.0</td>\n",
       "      <td>0.0</td>\n",
       "      <td>0.0</td>\n",
       "      <td>0.0</td>\n",
       "      <td>0.0</td>\n",
       "      <td>0.0</td>\n",
       "      <td>...</td>\n",
       "      <td>0.0</td>\n",
       "      <td>0.0</td>\n",
       "      <td>0.0</td>\n",
       "      <td>0.0</td>\n",
       "      <td>0.0</td>\n",
       "      <td>0.0</td>\n",
       "      <td>0.0</td>\n",
       "      <td>0.0</td>\n",
       "      <td>0.0</td>\n",
       "      <td>0.0</td>\n",
       "    </tr>\n",
       "    <tr>\n",
       "      <th>AAACATTGAGCTAC-1</th>\n",
       "      <td>0.0</td>\n",
       "      <td>0.0</td>\n",
       "      <td>0.0</td>\n",
       "      <td>0.0</td>\n",
       "      <td>0.0</td>\n",
       "      <td>0.0</td>\n",
       "      <td>0.0</td>\n",
       "      <td>0.0</td>\n",
       "      <td>0.0</td>\n",
       "      <td>0.0</td>\n",
       "      <td>...</td>\n",
       "      <td>0.0</td>\n",
       "      <td>0.0</td>\n",
       "      <td>0.0</td>\n",
       "      <td>0.0</td>\n",
       "      <td>0.0</td>\n",
       "      <td>0.0</td>\n",
       "      <td>0.0</td>\n",
       "      <td>0.0</td>\n",
       "      <td>0.0</td>\n",
       "      <td>0.0</td>\n",
       "    </tr>\n",
       "    <tr>\n",
       "      <th>AAACATTGATCAGC-1</th>\n",
       "      <td>0.0</td>\n",
       "      <td>0.0</td>\n",
       "      <td>0.0</td>\n",
       "      <td>0.0</td>\n",
       "      <td>0.0</td>\n",
       "      <td>0.0</td>\n",
       "      <td>0.0</td>\n",
       "      <td>0.0</td>\n",
       "      <td>0.0</td>\n",
       "      <td>0.0</td>\n",
       "      <td>...</td>\n",
       "      <td>0.0</td>\n",
       "      <td>0.0</td>\n",
       "      <td>0.0</td>\n",
       "      <td>0.0</td>\n",
       "      <td>0.0</td>\n",
       "      <td>0.0</td>\n",
       "      <td>0.0</td>\n",
       "      <td>0.0</td>\n",
       "      <td>0.0</td>\n",
       "      <td>0.0</td>\n",
       "    </tr>\n",
       "    <tr>\n",
       "      <th>AAACCGTGCTTCCG-1</th>\n",
       "      <td>0.0</td>\n",
       "      <td>0.0</td>\n",
       "      <td>0.0</td>\n",
       "      <td>0.0</td>\n",
       "      <td>0.0</td>\n",
       "      <td>0.0</td>\n",
       "      <td>0.0</td>\n",
       "      <td>0.0</td>\n",
       "      <td>0.0</td>\n",
       "      <td>0.0</td>\n",
       "      <td>...</td>\n",
       "      <td>0.0</td>\n",
       "      <td>0.0</td>\n",
       "      <td>0.0</td>\n",
       "      <td>1.0</td>\n",
       "      <td>0.0</td>\n",
       "      <td>0.0</td>\n",
       "      <td>0.0</td>\n",
       "      <td>0.0</td>\n",
       "      <td>0.0</td>\n",
       "      <td>0.0</td>\n",
       "    </tr>\n",
       "    <tr>\n",
       "      <th>AAACCGTGTATGCG-1</th>\n",
       "      <td>0.0</td>\n",
       "      <td>0.0</td>\n",
       "      <td>0.0</td>\n",
       "      <td>0.0</td>\n",
       "      <td>0.0</td>\n",
       "      <td>0.0</td>\n",
       "      <td>0.0</td>\n",
       "      <td>0.0</td>\n",
       "      <td>0.0</td>\n",
       "      <td>0.0</td>\n",
       "      <td>...</td>\n",
       "      <td>0.0</td>\n",
       "      <td>0.0</td>\n",
       "      <td>0.0</td>\n",
       "      <td>0.0</td>\n",
       "      <td>0.0</td>\n",
       "      <td>0.0</td>\n",
       "      <td>0.0</td>\n",
       "      <td>0.0</td>\n",
       "      <td>0.0</td>\n",
       "      <td>0.0</td>\n",
       "    </tr>\n",
       "  </tbody>\n",
       "</table>\n",
       "<p>5 rows × 100 columns</p>\n",
       "</div>"
      ],
      "text/plain": [
       "genes             MIR1302-10  FAM138A  OR4F5  RP11-34P13.7  RP11-34P13.8  \\\n",
       "0                                                                          \n",
       "AAACATACAACCAC-1         0.0      0.0    0.0           0.0           0.0   \n",
       "AAACATTGAGCTAC-1         0.0      0.0    0.0           0.0           0.0   \n",
       "AAACATTGATCAGC-1         0.0      0.0    0.0           0.0           0.0   \n",
       "AAACCGTGCTTCCG-1         0.0      0.0    0.0           0.0           0.0   \n",
       "AAACCGTGTATGCG-1         0.0      0.0    0.0           0.0           0.0   \n",
       "\n",
       "genes             AL627309.1  RP11-34P13.14  RP11-34P13.9  AP006222.2  \\\n",
       "0                                                                       \n",
       "AAACATACAACCAC-1         0.0            0.0           0.0         0.0   \n",
       "AAACATTGAGCTAC-1         0.0            0.0           0.0         0.0   \n",
       "AAACATTGATCAGC-1         0.0            0.0           0.0         0.0   \n",
       "AAACCGTGCTTCCG-1         0.0            0.0           0.0         0.0   \n",
       "AAACCGTGTATGCG-1         0.0            0.0           0.0         0.0   \n",
       "\n",
       "genes             RP4-669L17.10  ...  RP11-345P4.7  CDK11A  SLC35E2  NADK  \\\n",
       "0                                ...                                        \n",
       "AAACATACAACCAC-1            0.0  ...           0.0     0.0      0.0   0.0   \n",
       "AAACATTGAGCTAC-1            0.0  ...           0.0     0.0      0.0   0.0   \n",
       "AAACATTGATCAGC-1            0.0  ...           0.0     0.0      0.0   0.0   \n",
       "AAACCGTGCTTCCG-1            0.0  ...           0.0     0.0      0.0   1.0   \n",
       "AAACCGTGTATGCG-1            0.0  ...           0.0     0.0      0.0   0.0   \n",
       "\n",
       "genes             GNB1  RP1-140A9.1  CALML6  TMEM52  C1orf222  RP11-547D24.1  \n",
       "0                                                                             \n",
       "AAACATACAACCAC-1   0.0          0.0     0.0     0.0       0.0            0.0  \n",
       "AAACATTGAGCTAC-1   0.0          0.0     0.0     0.0       0.0            0.0  \n",
       "AAACATTGATCAGC-1   0.0          0.0     0.0     0.0       0.0            0.0  \n",
       "AAACCGTGCTTCCG-1   0.0          0.0     0.0     0.0       0.0            0.0  \n",
       "AAACCGTGTATGCG-1   0.0          0.0     0.0     0.0       0.0            0.0  \n",
       "\n",
       "[5 rows x 100 columns]"
      ]
     },
     "execution_count": 100,
     "metadata": {},
     "output_type": "execute_result"
    }
   ],
   "source": [
    "rna.to_df().head()"
   ]
  },
  {
   "cell_type": "markdown",
   "metadata": {},
   "source": [
    "**Save**"
   ]
  },
  {
   "cell_type": "code",
   "execution_count": 101,
   "metadata": {},
   "outputs": [],
   "source": [
    "example_counts_path = \"tests/data/example/counts/rna.pickle\"\n",
    "rna.save(example_counts_path)"
   ]
  },
  {
   "cell_type": "code",
   "execution_count": 102,
   "metadata": {},
   "outputs": [
    {
     "name": "stdout",
     "output_type": "stream",
     "text": [
      "tests/data/example/counts/rna.pickle\n"
     ]
    }
   ],
   "source": [
    "ls {example_counts_path}"
   ]
  },
  {
   "cell_type": "markdown",
   "metadata": {},
   "source": [
    "**Load**"
   ]
  },
  {
   "cell_type": "code",
   "execution_count": 106,
   "metadata": {},
   "outputs": [
    {
     "data": {
      "text/plain": [
       "<class 'cellforest.structures.Counts.Counts'>: [cell_ids x genes] matrix\n",
       "<200x100 sparse matrix of type '<class 'numpy.float64'>'\n",
       "\twith 540 stored elements in Compressed Sparse Row format>"
      ]
     },
     "execution_count": 106,
     "metadata": {},
     "output_type": "execute_result"
    }
   ],
   "source": [
    "Counts.load(example_counts_path)"
   ]
  },
  {
   "cell_type": "markdown",
   "metadata": {},
   "source": [
    "**Others**"
   ]
  },
  {
   "cell_type": "markdown",
   "metadata": {},
   "source": [
    "There are also `to_cellranger`, `to_rds`, and `from_rds` I/O methods. Note that they may leave behind intermediate artifacts (e.g. pickle files)."
   ]
  },
  {
   "cell_type": "markdown",
   "metadata": {},
   "source": [
    "# Cellforest Loading Data"
   ]
  },
  {
   "cell_type": "markdown",
   "metadata": {},
   "source": [
    "We can load data from cellranger outputs. If there are multiple samples and metadata is available, option 3 should be used. The data is loaded and combined in a `Counts` matrix as an attribute of our `CellForest` object. Python (.pickle) and Seurat (.rds) versions are saved in our `root_dir`. A `meta.tsv` file will also be created, which will include `cell_id`s (barcodes) as an index, and any additional sample metadata for each cell.\n",
    "\n",
    "The `root_dir` will serve as the base for all of our downstream analysis. Once this directory has been populated, you can use option 4 to load from the .pickle file rather than re-processing the cellranger outputs."
   ]
  },
  {
   "cell_type": "markdown",
   "metadata": {},
   "source": [
    "### Option 1: from single cellranger output"
   ]
  },
  {
   "cell_type": "code",
   "execution_count": 107,
   "metadata": {},
   "outputs": [
    {
     "name": "stdout",
     "output_type": "stream",
     "text": [
      "WARNING: lists of nodes, as opposed to sets, have not been tested\n"
     ]
    },
    {
     "data": {
      "text/plain": [
       "<cellforest.templates.CellForest.CellForest at 0x11fd60850>"
      ]
     },
     "execution_count": 107,
     "metadata": {},
     "output_type": "execute_result"
    }
   ],
   "source": [
    "cf = cellforest.from_input_dirs(root_dir, cellranger_dir)\n",
    "cf"
   ]
  },
  {
   "cell_type": "code",
   "execution_count": 108,
   "metadata": {},
   "outputs": [
    {
     "name": "stdout",
     "output_type": "stream",
     "text": [
      "meta.tsv    rna.pickle  rna.rds\n"
     ]
    }
   ],
   "source": [
    "ls {root_dir}"
   ]
  },
  {
   "cell_type": "code",
   "execution_count": 28,
   "metadata": {},
   "outputs": [
    {
     "data": {
      "text/html": [
       "<div>\n",
       "<style scoped>\n",
       "    .dataframe tbody tr th:only-of-type {\n",
       "        vertical-align: middle;\n",
       "    }\n",
       "\n",
       "    .dataframe tbody tr th {\n",
       "        vertical-align: top;\n",
       "    }\n",
       "\n",
       "    .dataframe thead th {\n",
       "        text-align: right;\n",
       "    }\n",
       "</style>\n",
       "<table border=\"1\" class=\"dataframe\">\n",
       "  <thead>\n",
       "    <tr style=\"text-align: right;\">\n",
       "      <th></th>\n",
       "      <th>sample</th>\n",
       "    </tr>\n",
       "    <tr>\n",
       "      <th>0</th>\n",
       "      <th></th>\n",
       "    </tr>\n",
       "  </thead>\n",
       "  <tbody>\n",
       "    <tr>\n",
       "      <th>AAACATACAACCAC-1</th>\n",
       "      <td>sample_1</td>\n",
       "    </tr>\n",
       "    <tr>\n",
       "      <th>AAACATTGAGCTAC-1</th>\n",
       "      <td>sample_1</td>\n",
       "    </tr>\n",
       "    <tr>\n",
       "      <th>AAACATTGATCAGC-1</th>\n",
       "      <td>sample_1</td>\n",
       "    </tr>\n",
       "    <tr>\n",
       "      <th>AAACCGTGCTTCCG-1</th>\n",
       "      <td>sample_1</td>\n",
       "    </tr>\n",
       "    <tr>\n",
       "      <th>AAACCGTGTATGCG-1</th>\n",
       "      <td>sample_1</td>\n",
       "    </tr>\n",
       "  </tbody>\n",
       "</table>\n",
       "</div>"
      ],
      "text/plain": [
       "                    sample\n",
       "0                         \n",
       "AAACATACAACCAC-1  sample_1\n",
       "AAACATTGAGCTAC-1  sample_1\n",
       "AAACATTGATCAGC-1  sample_1\n",
       "AAACCGTGCTTCCG-1  sample_1\n",
       "AAACCGTGTATGCG-1  sample_1"
      ]
     },
     "execution_count": 28,
     "metadata": {},
     "output_type": "execute_result"
    }
   ],
   "source": [
    "pd.read_csv(f\"{root_dir}/meta.tsv\", sep=\"\\t\", index_col=0).head()"
   ]
  },
  {
   "cell_type": "markdown",
   "metadata": {},
   "source": [
    "### Option 2: from multiple cellranger outputs"
   ]
  },
  {
   "cell_type": "code",
   "execution_count": 29,
   "metadata": {},
   "outputs": [
    {
     "name": "stdout",
     "output_type": "stream",
     "text": [
      "WARNING: lists of nodes, as opposed to sets, have not been tested\n"
     ]
    }
   ],
   "source": [
    "cellranger_dir_2 = \"tests/data/v3_gz/sample_2\"\n",
    "cf = cellforest.from_input_dirs(root_dir, [cellranger_dir, cellranger_dir_2])"
   ]
  },
  {
   "cell_type": "markdown",
   "metadata": {},
   "source": [
    "### Option 3 (PREFERRED): From metadata"
   ]
  },
  {
   "cell_type": "markdown",
   "metadata": {},
   "source": [
    "This is preferred because this will allow you to include your metadata in analysis"
   ]
  },
  {
   "cell_type": "code",
   "execution_count": 36,
   "metadata": {},
   "outputs": [
    {
     "data": {
      "text/html": [
       "<div>\n",
       "<style scoped>\n",
       "    .dataframe tbody tr th:only-of-type {\n",
       "        vertical-align: middle;\n",
       "    }\n",
       "\n",
       "    .dataframe tbody tr th {\n",
       "        vertical-align: top;\n",
       "    }\n",
       "\n",
       "    .dataframe thead th {\n",
       "        text-align: right;\n",
       "    }\n",
       "</style>\n",
       "<table border=\"1\" class=\"dataframe\">\n",
       "  <thead>\n",
       "    <tr style=\"text-align: right;\">\n",
       "      <th></th>\n",
       "      <th>sample</th>\n",
       "      <th>path_rna</th>\n",
       "    </tr>\n",
       "  </thead>\n",
       "  <tbody>\n",
       "    <tr>\n",
       "      <th>0</th>\n",
       "      <td>sample_1</td>\n",
       "      <td>/Users/austinmckay/code/cellforest/tests/data/...</td>\n",
       "    </tr>\n",
       "    <tr>\n",
       "      <th>1</th>\n",
       "      <td>sample_2</td>\n",
       "      <td>/Users/austinmckay/code/cellforest/tests/data/...</td>\n",
       "    </tr>\n",
       "  </tbody>\n",
       "</table>\n",
       "</div>"
      ],
      "text/plain": [
       "     sample                                           path_rna\n",
       "0  sample_1  /Users/austinmckay/code/cellforest/tests/data/...\n",
       "1  sample_2  /Users/austinmckay/code/cellforest/tests/data/..."
      ]
     },
     "execution_count": 36,
     "metadata": {},
     "output_type": "execute_result"
    }
   ],
   "source": [
    "# load example metadata\n",
    "meta = pd.read_csv(\"tests/data/sample_metadata.tsv\", sep=\"\\t\")\n",
    "meta.head()"
   ]
  },
  {
   "cell_type": "code",
   "execution_count": 11,
   "metadata": {},
   "outputs": [
    {
     "name": "stdout",
     "output_type": "stream",
     "text": [
      "WARNING: lists of nodes, as opposed to sets, have not been tested\n"
     ]
    }
   ],
   "source": [
    "cf = cellforest.from_metadata(root_dir, meta)"
   ]
  },
  {
   "cell_type": "markdown",
   "metadata": {},
   "source": [
    "### Option 4 (for every subsequent load): From existing root"
   ]
  },
  {
   "cell_type": "code",
   "execution_count": 29,
   "metadata": {},
   "outputs": [],
   "source": [
    "cf = cellforest.load(root_dir)"
   ]
  },
  {
   "cell_type": "markdown",
   "metadata": {},
   "source": [
    "# Cellforest Interface"
   ]
  },
  {
   "cell_type": "markdown",
   "metadata": {},
   "source": [
    "## Metadata"
   ]
  },
  {
   "cell_type": "code",
   "execution_count": 14,
   "metadata": {},
   "outputs": [
    {
     "data": {
      "text/html": [
       "<div>\n",
       "<style scoped>\n",
       "    .dataframe tbody tr th:only-of-type {\n",
       "        vertical-align: middle;\n",
       "    }\n",
       "\n",
       "    .dataframe tbody tr th {\n",
       "        vertical-align: top;\n",
       "    }\n",
       "\n",
       "    .dataframe thead th {\n",
       "        text-align: right;\n",
       "    }\n",
       "</style>\n",
       "<table border=\"1\" class=\"dataframe\">\n",
       "  <thead>\n",
       "    <tr style=\"text-align: right;\">\n",
       "      <th></th>\n",
       "      <th>sample</th>\n",
       "    </tr>\n",
       "    <tr>\n",
       "      <th>0</th>\n",
       "      <th></th>\n",
       "    </tr>\n",
       "  </thead>\n",
       "  <tbody>\n",
       "    <tr>\n",
       "      <th>AAACATACAACCAC-1</th>\n",
       "      <td>sample_1</td>\n",
       "    </tr>\n",
       "    <tr>\n",
       "      <th>AAACATTGAGCTAC-1</th>\n",
       "      <td>sample_1</td>\n",
       "    </tr>\n",
       "    <tr>\n",
       "      <th>AAACATTGATCAGC-1</th>\n",
       "      <td>sample_1</td>\n",
       "    </tr>\n",
       "    <tr>\n",
       "      <th>AAACCGTGCTTCCG-1</th>\n",
       "      <td>sample_1</td>\n",
       "    </tr>\n",
       "    <tr>\n",
       "      <th>AAACCGTGTATGCG-1</th>\n",
       "      <td>sample_1</td>\n",
       "    </tr>\n",
       "    <tr>\n",
       "      <th>...</th>\n",
       "      <td>...</td>\n",
       "    </tr>\n",
       "    <tr>\n",
       "      <th>ACTTTGTGGAAAGT-1</th>\n",
       "      <td>sample_2</td>\n",
       "    </tr>\n",
       "    <tr>\n",
       "      <th>ACTTTGTGGATAGA-1</th>\n",
       "      <td>sample_2</td>\n",
       "    </tr>\n",
       "    <tr>\n",
       "      <th>AGAAACGAAAGTAG-1</th>\n",
       "      <td>sample_2</td>\n",
       "    </tr>\n",
       "    <tr>\n",
       "      <th>AGAAAGTGCGCAAT-1</th>\n",
       "      <td>sample_2</td>\n",
       "    </tr>\n",
       "    <tr>\n",
       "      <th>AGAAAGTGGGGATG-1</th>\n",
       "      <td>sample_2</td>\n",
       "    </tr>\n",
       "  </tbody>\n",
       "</table>\n",
       "<p>400 rows × 1 columns</p>\n",
       "</div>"
      ],
      "text/plain": [
       "                    sample\n",
       "0                         \n",
       "AAACATACAACCAC-1  sample_1\n",
       "AAACATTGAGCTAC-1  sample_1\n",
       "AAACATTGATCAGC-1  sample_1\n",
       "AAACCGTGCTTCCG-1  sample_1\n",
       "AAACCGTGTATGCG-1  sample_1\n",
       "...                    ...\n",
       "ACTTTGTGGAAAGT-1  sample_2\n",
       "ACTTTGTGGATAGA-1  sample_2\n",
       "AGAAACGAAAGTAG-1  sample_2\n",
       "AGAAAGTGCGCAAT-1  sample_2\n",
       "AGAAAGTGGGGATG-1  sample_2\n",
       "\n",
       "[400 rows x 1 columns]"
      ]
     },
     "execution_count": 14,
     "metadata": {},
     "output_type": "execute_result"
    }
   ],
   "source": [
    "cf.meta"
   ]
  },
  {
   "cell_type": "markdown",
   "metadata": {},
   "source": [
    "## Counts"
   ]
  },
  {
   "cell_type": "code",
   "execution_count": 16,
   "metadata": {},
   "outputs": [
    {
     "data": {
      "text/plain": [
       "<class 'cellforest.structures.Counts.Counts'>: [cell_ids x genes] matrix\n",
       "<400x100 sparse matrix of type '<class 'numpy.float64'>'\n",
       "\twith 1032 stored elements in Compressed Sparse Row format>"
      ]
     },
     "execution_count": 16,
     "metadata": {},
     "output_type": "execute_result"
    }
   ],
   "source": [
    "cf.rna"
   ]
  },
  {
   "cell_type": "markdown",
   "metadata": {},
   "source": [
    "Other useful methods include `copy`, "
   ]
  },
  {
   "cell_type": "markdown",
   "metadata": {},
   "source": [
    "## Workflow automation"
   ]
  },
  {
   "cell_type": "markdown",
   "metadata": {},
   "source": [
    "The purpose of cellforest isn't just to interact with metadata and counts matrices -- we want to automate workflows and interact with the outputs. We do this with a specification, which we input as a dictionary, and gets converted to a `Spec` object internally. Each key represents a process name, and the values represent input parameters to that process."
   ]
  },
  {
   "cell_type": "code",
   "execution_count": 109,
   "metadata": {},
   "outputs": [],
   "source": [
    "# TODO: start with linear process spec"
   ]
  },
  {
   "cell_type": "code",
   "execution_count": 38,
   "metadata": {},
   "outputs": [],
   "source": [
    "spec = {\n",
    "    \"normalize\": {\n",
    "        \"min_genes\": 5,\n",
    "        \"max_genes\": 5000,\n",
    "        \"min_cells\": 5,\n",
    "        \"nfeatures\": 30,\n",
    "        \"perc_mito_cutoff\": 20,\n",
    "        \"method\": \"seurat_default\",\n",
    "    },\n",
    "    \"reduce\": {\n",
    "        # TODO: not set up yet\n",
    "    },\n",
    "    \"cluster\": {\n",
    "        # TODO: not set up yet\n",
    "    }\n",
    "}\n",
    "process_order = [\"normalize\", \"reduce\", \"cluster\"]"
   ]
  },
  {
   "cell_type": "code",
   "execution_count": 6,
   "metadata": {},
   "outputs": [],
   "source": [
    "spec = [\n",
    "    {\n",
    "        \"process\": \"normalize\",\n",
    "        \"params\": {\n",
    "            \"min_genes\": 5,\n",
    "            \"max_genes\": 5000,\n",
    "            \"min_cells\": 5,\n",
    "            \"nfeatures\": 30,\n",
    "            \"perc_mito_cutoff\": 20,\n",
    "            \"method\": \"seurat_default\",\n",
    "        },\n",
    "        \"filter\": {\n",
    "            \"donor_id\": 1542\n",
    "        }\n",
    "    },\n",
    "\n",
    "    {\n",
    "        \"process\": \"reduce\",\n",
    "        \"params\": {},\n",
    "        \"subset\": {\n",
    "            \"indication\": \"disease_1\",\n",
    "        },\n",
    "        \"partition\": {\"disease_state\"}\n",
    "    },\n",
    "\n",
    "    {\n",
    "        \"process\": \"cluster\",\n",
    "        \"alias\": \"pca\"\n",
    "    },\n",
    "\n",
    "    {\n",
    "        \"process\": \"cluster\",\n",
    "        \"alias\": \"umap\"\n",
    "    },\n",
    "\n",
    "    {\n",
    "        \"process\": \"label\",\n",
    "        \"alias\": \"label_th17_markers\",\n",
    "    },\n",
    "\n",
    "    {\n",
    "        \"process\": \"label\",\n",
    "        \"alias\": \"label_th2_markers\",\n",
    "    }\n",
    "]"
   ]
  },
  {
   "cell_type": "code",
   "execution_count": 39,
   "metadata": {},
   "outputs": [],
   "source": [
    "cf = cellforest.from_metadata(root_dir, meta, spec=spec)"
   ]
  },
  {
   "cell_type": "code",
   "execution_count": 14,
   "metadata": {},
   "outputs": [
    {
     "name": "stdout",
     "output_type": "stream",
     "text": [
      "meta.tsv    rna.pickle  rna.rds\n"
     ]
    }
   ],
   "source": [
    "ls {root_dir}"
   ]
  },
  {
   "cell_type": "markdown",
   "metadata": {},
   "source": [
    "We can now execute processes from the spec"
   ]
  },
  {
   "cell_type": "code",
   "execution_count": 15,
   "metadata": {},
   "outputs": [],
   "source": [
    "cf.process.normalize()"
   ]
  },
  {
   "cell_type": "code",
   "execution_count": 16,
   "metadata": {},
   "outputs": [
    {
     "name": "stdout",
     "output_type": "stream",
     "text": [
      "meta.tsv    \u001b[1m\u001b[36mnormalize\u001b[m\u001b[m/  rna.pickle  rna.rds\n"
     ]
    }
   ],
   "source": [
    "ls {root_dir}"
   ]
  },
  {
   "cell_type": "code",
   "execution_count": 20,
   "metadata": {},
   "outputs": [
    {
     "name": "stdout",
     "output_type": "stream",
     "text": [
      "\u001b[01;34mtests/data/example_usage/root\u001b[00m\n",
      "├── meta.tsv\n",
      "├── \u001b[01;34mnormalize\u001b[00m\n",
      "│   └── \u001b[01;34mmax_genes:5000-method:seurat_default-min_cells:5-min_genes:5-nfeatures:30-perc_mito_cutoff:20\u001b[00m\n",
      "│       ├── meta.tsv\n",
      "│       ├── normalize.err\n",
      "│       ├── normalize.out\n",
      "│       ├── rna.pickle\n",
      "│       └── rna.rds\n",
      "├── rna.pickle\n",
      "└── rna.rds\n",
      "\n",
      "2 directories, 8 files\n"
     ]
    }
   ],
   "source": [
    "!tree {root_dir}"
   ]
  },
  {
   "cell_type": "markdown",
   "metadata": {},
   "source": [
    "The `normalize` directory contains a single process run directory, which is named with all parameters used to run it. This syntax is called `ForestQuery`, and can be used to represent any dictionary."
   ]
  },
  {
   "cell_type": "code",
   "execution_count": 21,
   "metadata": {},
   "outputs": [],
   "source": [
    "from dataforest.filesystem.core.DataTree import DataTree"
   ]
  },
  {
   "cell_type": "markdown",
   "metadata": {},
   "source": [
    "Note: you won't ever need to interact directly with `DataTree`, it is just instantiated here for illustrative purposes"
   ]
  },
  {
   "cell_type": "code",
   "execution_count": 32,
   "metadata": {},
   "outputs": [],
   "source": [
    "dt = DataTree({\n",
    "    \"a\": {1, 2},\n",
    "    \"b\": {\n",
    "        \"c\": 3\n",
    "    },\n",
    "    \"d\": 4}\n",
    ")"
   ]
  },
  {
   "cell_type": "markdown",
   "metadata": {},
   "source": [
    "The keys are organized alphabetically. `:` and `-` represent inward and outward traversal, respectively, and `+` is a delimiter for elements on the same level (uses set rather than list)."
   ]
  },
  {
   "cell_type": "code",
   "execution_count": 34,
   "metadata": {},
   "outputs": [
    {
     "data": {
      "text/plain": [
       "'a:1+2-b:c:3--d:4'"
      ]
     },
     "execution_count": 34,
     "metadata": {},
     "output_type": "execute_result"
    }
   ],
   "source": [
    "str(dt)"
   ]
  },
  {
   "cell_type": "markdown",
   "metadata": {},
   "source": [
    "# Process"
   ]
  },
  {
   "cell_type": "markdown",
   "metadata": {},
   "source": [
    "The default processes are defined in `cellforest.process`"
   ]
  },
  {
   "cell_type": "code",
   "execution_count": 15,
   "metadata": {},
   "outputs": [],
   "source": [
    "from cellforest.processes import processes\n",
    "process_path = str(Path(processes.__file__).parent)"
   ]
  },
  {
   "cell_type": "code",
   "execution_count": 24,
   "metadata": {},
   "outputs": [
    {
     "name": "stdout",
     "output_type": "stream",
     "text": [
      "\u001b[01;34m/Users/austinmckay/code/cellforest/cellforest/processes/processes\u001b[00m\n",
      "├── __init__.py\n",
      "├── \u001b[01;34mcluster\u001b[00m\n",
      "│   ├── __init__.py\n",
      "│   └── process.py\n",
      "├── \u001b[01;34mexpression\u001b[00m\n",
      "│   ├── __init__.py\n",
      "│   └── process.py\n",
      "├── \u001b[01;34mgsea\u001b[00m\n",
      "│   ├── __init__.py\n",
      "│   └── process.py\n",
      "├── \u001b[01;34mnormalize\u001b[00m\n",
      "│   ├── __init__.py\n",
      "│   ├── process.py\n",
      "│   └── seurat_default_normalize.R\n",
      "└── \u001b[01;34mreduce\u001b[00m\n",
      "    ├── __init__.py\n",
      "    └── process.py\n",
      "\n",
      "5 directories, 12 files\n"
     ]
    }
   ],
   "source": [
    "!tree {process_path}"
   ]
  },
  {
   "cell_type": "markdown",
   "metadata": {},
   "source": [
    "The `process.py` file contains the process function, which should be decorated with `dataprocess` (explained in Hooks section). `normalize/process.py` is pasted below."
   ]
  },
  {
   "cell_type": "markdown",
   "metadata": {},
   "source": [
    "The function will be broken up below"
   ]
  },
  {
   "cell_type": "code",
   "execution_count": 31,
   "metadata": {},
   "outputs": [],
   "source": [
    "from dataforest.hooks import dataprocess\n",
    "\n",
    "from cellforest.utils.r.run_r_script import run_process_r_script\n",
    "\n",
    "\n",
    "@dataprocess(requires=\"root\", matrix_layer=True)\n",
    "def normalize(forest: \"CellForest\"):\n",
    "    process_name = \"normalize\"\n",
    "    input_metadata_path = forest.get_temp_meta_path(process_name)\n",
    "    # TODO: add a root filepaths lookup\n",
    "    input_rds_path = forest.root_dir / \"rna.rds\"\n",
    "    output_rds_path = forest[process_name].path_map[\"rna_r\"]\n",
    "    min_genes = forest.spec[process_name][\"min_genes\"]\n",
    "    max_genes = forest.spec[process_name][\"max_genes\"]\n",
    "    min_cells = forest.spec[process_name][\"min_cells\"]\n",
    "    perc_mito_cutoff = forest.spec[process_name][\"perc_mito_cutoff\"]\n",
    "    r_functions_filepath = forest.schema.__class__.R_FILEPATHS[\"FUNCTIONS_FILE_PATH\"]\n",
    "    method = forest.spec[process_name][\"method\"]\n",
    "    arg_list = [\n",
    "        input_metadata_path,\n",
    "        input_rds_path,\n",
    "        output_rds_path,\n",
    "        min_genes,\n",
    "        max_genes,\n",
    "        min_cells,\n",
    "        perc_mito_cutoff,\n",
    "        r_functions_filepath,\n",
    "    ]\n",
    "    if method == \"sctransform\":\n",
    "        output_corrected_umi_path = forest[process_name].path_map[\"corrected_umi\"]\n",
    "        output_pearson_residual_path = forest[process_name].path_map[\"pearson_residual\"]\n",
    "        arg_list += [output_corrected_umi_path, output_pearson_residual_path]\n",
    "        r_normalize_script = str(forest.schema.__class__.R_FILEPATHS[\"SCTRANSFORM_SCRIPT\"])\n",
    "    elif method == \"seurat_default\":\n",
    "        verbose = True\n",
    "        verbose = str(verbose).upper()\n",
    "        nfeatures = forest.spec[process_name][\"nfeatures\"]\n",
    "        arg_list += [verbose, nfeatures]\n",
    "        r_normalize_script = str(forest.schema.__class__.R_FILEPATHS[\"SEURAT_DEFAULT_NORMALIZE_SCRIPT\"])\n",
    "    else:\n",
    "        raise ValueError(f\"Invalid normalization method: {method}. Use 'sctransform' or 'seurat_default'\")\n",
    "    run_process_r_script(forest, r_normalize_script, arg_list, process_name)\n"
   ]
  },
  {
   "cell_type": "markdown",
   "metadata": {},
   "source": [
    "`forest` simply refers to the `CellForest` object (`cf`) upon which we're executing this process\n",
    "A hook function runs prior to the process start, which stores temporary metadata, which is removed afterward (more in hooks section). Here we're getting the path to that metadata"
   ]
  },
  {
   "cell_type": "code",
   "execution_count": null,
   "metadata": {},
   "outputs": [],
   "source": [
    "def normalize(forest: \"CellForest\"):\n",
    "    process_name = \"normalize\"\n",
    "    input_metadata_path = forest.get_temp_meta_path(process_name)"
   ]
  },
  {
   "cell_type": "markdown",
   "metadata": {},
   "source": [
    "The second line below uses the `forest[process_name]` syntax, which refers to a `ProcessRun` object."
   ]
  },
  {
   "cell_type": "code",
   "execution_count": null,
   "metadata": {},
   "outputs": [],
   "source": [
    "    input_rds_path = forest.root_dir / \"rna.rds\"\n",
    "    output_rds_path = forest[process_name].path_map[\"rna_r\"]"
   ]
  },
  {
   "cell_type": "code",
   "execution_count": 44,
   "metadata": {},
   "outputs": [
    {
     "data": {
      "text/plain": [
       "<dataforest.core.ProcessRun.ProcessRun at 0x116070e20>"
      ]
     },
     "execution_count": 44,
     "metadata": {},
     "output_type": "execute_result"
    }
   ],
   "source": [
    "pr = cf[\"normalize\"]\n",
    "pr"
   ]
  },
  {
   "cell_type": "markdown",
   "metadata": {},
   "source": [
    "The process run has a few attributes to navigate the file structure"
   ]
  },
  {
   "cell_type": "markdown",
   "metadata": {},
   "source": [
    "File names"
   ]
  },
  {
   "cell_type": "code",
   "execution_count": 47,
   "metadata": {},
   "outputs": [
    {
     "data": {
      "text/plain": [
       "{'corrected_umi': 'corrected_umi.mtx',\n",
       " 'pearson_residual': 'pearson_residuals.tsv',\n",
       " 'rna': 'rna.pickle',\n",
       " 'rna_r': 'rna.rds',\n",
       " 'rna_ann': 'rna.anndata'}"
      ]
     },
     "execution_count": 47,
     "metadata": {},
     "output_type": "execute_result"
    }
   ],
   "source": [
    "pr.file_map"
   ]
  },
  {
   "cell_type": "markdown",
   "metadata": {},
   "source": [
    "Path to output directory"
   ]
  },
  {
   "cell_type": "code",
   "execution_count": 50,
   "metadata": {},
   "outputs": [
    {
     "data": {
      "text/plain": [
       "PosixPath('tests/data/example_usage/root/normalize/max_genes:5000-method:seurat_default-min_cells:5-min_genes:5-nfeatures:30-perc_mito_cutoff:20')"
      ]
     },
     "execution_count": 50,
     "metadata": {},
     "output_type": "execute_result"
    }
   ],
   "source": [
    "pr.path"
   ]
  },
  {
   "cell_type": "markdown",
   "metadata": {},
   "source": [
    "Full paths."
   ]
  },
  {
   "cell_type": "code",
   "execution_count": 54,
   "metadata": {},
   "outputs": [
    {
     "data": {
      "text/plain": [
       "{'corrected_umi': PosixPath('tests/data/example_usage/root/normalize/max_genes:5000-method:seurat_default-min_cells:5-min_genes:5-nfeatures:30-perc_mito_cutoff:20/corrected_umi.mtx'),\n",
       " 'pearson_residual': PosixPath('tests/data/example_usage/root/normalize/max_genes:5000-method:seurat_default-min_cells:5-min_genes:5-nfeatures:30-perc_mito_cutoff:20/pearson_residuals.tsv'),\n",
       " 'rna': PosixPath('tests/data/example_usage/root/normalize/max_genes:5000-method:seurat_default-min_cells:5-min_genes:5-nfeatures:30-perc_mito_cutoff:20/rna.pickle'),\n",
       " 'rna_r': PosixPath('tests/data/example_usage/root/normalize/max_genes:5000-method:seurat_default-min_cells:5-min_genes:5-nfeatures:30-perc_mito_cutoff:20/rna.rds'),\n",
       " 'rna_ann': PosixPath('tests/data/example_usage/root/normalize/max_genes:5000-method:seurat_default-min_cells:5-min_genes:5-nfeatures:30-perc_mito_cutoff:20/rna.anndata')}"
      ]
     },
     "execution_count": 54,
     "metadata": {},
     "output_type": "execute_result"
    }
   ],
   "source": [
    "pr.path_map"
   ]
  },
  {
   "cell_type": "markdown",
   "metadata": {},
   "source": [
    "There are two more attributes `files` and `filepaths`, which are just lists of the keys of `file_map` and `path_map`, respectively."
   ]
  },
  {
   "cell_type": "markdown",
   "metadata": {},
   "source": [
    "Check if the process has been run (just checks for logfiles in process run directory)"
   ]
  },
  {
   "cell_type": "code",
   "execution_count": 52,
   "metadata": {},
   "outputs": [
    {
     "data": {
      "text/plain": [
       "True"
      ]
     },
     "execution_count": 52,
     "metadata": {},
     "output_type": "execute_result"
    }
   ],
   "source": [
    "pr.done"
   ]
  },
  {
   "cell_type": "markdown",
   "metadata": {},
   "source": [
    "Check output files"
   ]
  },
  {
   "cell_type": "code",
   "execution_count": 55,
   "metadata": {},
   "outputs": [
    {
     "name": "stdout",
     "output_type": "stream",
     "text": [
      "meta.tsv       normalize.err  normalize.out  rna.pickle     rna.rds\n"
     ]
    }
   ],
   "source": [
    "ls {str(pr.path)}"
   ]
  },
  {
   "cell_type": "markdown",
   "metadata": {},
   "source": [
    "Check log files (`normalize.out` and `normalize.err`). They are intented to be stdout and stderr, but in reality, lines written in cellforest R code go to .out, and lines from other packages, e.g. Seurat, go to .err."
   ]
  },
  {
   "cell_type": "code",
   "execution_count": 53,
   "metadata": {},
   "outputs": [
    {
     "name": "stdout",
     "output_type": "stream",
     "text": [
      "\u001b[40m\u001b[36mSTDOUT: normalize\u001b[0m\n",
      "[1] \"creating Seurat object\"\n",
      "[1] \"reading metadata\"\n",
      "[1] \"Sun Jul  5 19:02:53 2020\"\n",
      "[1] \"metadata filter\"\n",
      "[1] \"Sun Jul  5 19:02:53 2020\"\n",
      "[1] \"filtering cells by metadata and keeping 400 / 400\"\n",
      "[1] \"Sun Jul  5 19:02:53 2020\"\n",
      "[1] \"filtering cells\"\n",
      "[1] \"Sun Jul  5 19:02:53 2020\"\n",
      "[1] \"Filter cells\"\n",
      "[1] \"Sun Jul  5 19:02:54 2020\"\n",
      "[1] 400\n",
      "[1] 20\n",
      "[1] \"Filtered cells:400->20\"\n",
      "[1] \"normalizing\"\n",
      "[1] \"Sun Jul  5 19:02:54 2020\"\n",
      "[1] \"finding variable features\"\n",
      "[1] \"Sun Jul  5 19:02:54 2020\"\n",
      "[1] \"scaling data\"\n",
      "[1] \"Sun Jul  5 19:02:54 2020\"\n",
      "[1] \"Saving output object\"\n",
      "[1] \"Sun Jul  5 19:02:54 2020\"\n",
      "[1] \"default Seurat normalization DONE\"\n",
      "[1] \"Sun Jul  5 19:02:54 2020\"\n",
      "\n",
      "\u001b[40m\u001b[35mSTDERR: normalize\u001b[0m\n",
      "\n",
      "Attaching package: ‘dplyr’\n",
      "\n",
      "The following objects are masked from ‘package:stats’:\n",
      "\n",
      "    filter, lag\n",
      "\n",
      "The following objects are masked from ‘package:base’:\n",
      "\n",
      "    intersect, setdiff, setequal, union\n",
      "\n",
      "Performing log-normalization\n",
      "0%   10   20   30   40   50   60   70   80   90   100%\n",
      "[----|----|----|----|----|----|----|----|----|----|\n",
      "**************************************************|\n",
      "Calculating gene variances\n",
      "0%   10   20   30   40   50   60   70   80   90   100%\n",
      "[----|----|----|----|----|----|----|----|----|----|\n",
      "**************************************************|\n",
      "Calculating feature variances of standardized and clipped values\n",
      "0%   10   20   30   40   50   60   70   80   90   100%\n",
      "[----|----|----|----|----|----|----|----|----|----|\n",
      "**************************************************|\n",
      "Warning messages:\n",
      "1: In simpleLoess(y, x, w, span, degree = degree, parametric = parametric,  :\n",
      "  at  -1.3097\n",
      "2: In simpleLoess(y, x, w, span, degree = degree, parametric = parametric,  :\n",
      "  radius  7.5722e-05\n",
      "3: In simpleLoess(y, x, w, span, degree = degree, parametric = parametric,  :\n",
      "  all data on boundary of neighborhood. make span bigger\n",
      "4: In simpleLoess(y, x, w, span, degree = degree, parametric = parametric,  :\n",
      "  pseudoinverse used at -1.3097\n",
      "5: In simpleLoess(y, x, w, span, degree = degree, parametric = parametric,  :\n",
      "  neighborhood radius 0.0087018\n",
      "6: In simpleLoess(y, x, w, span, degree = degree, parametric = parametric,  :\n",
      "  reciprocal condition number  1\n",
      "7: In simpleLoess(y, x, w, span, degree = degree, parametric = parametric,  :\n",
      "  There are other near singularities as well. 0.031008\n",
      "8: In simpleLoess(y, x, w, span, degree = degree, parametric = parametric,  :\n",
      "  zero-width neighborhood. make span bigger\n",
      "Centering and scaling data matrix\n",
      "\n",
      "  |                                                                            \n",
      "  |                                                                      |   0%\n",
      "  |                                                                            \n",
      "  |======================================================================| 100%\n",
      "\n"
     ]
    }
   ],
   "source": [
    "pr.logs"
   ]
  },
  {
   "cell_type": "markdown",
   "metadata": {},
   "source": [
    "Back to the process definition: these lines are simply extracting the parameters from the spec."
   ]
  },
  {
   "cell_type": "code",
   "execution_count": null,
   "metadata": {},
   "outputs": [],
   "source": [
    "    min_genes = forest.spec[process_name][\"min_genes\"]\n",
    "    max_genes = forest.spec[process_name][\"max_genes\"]\n",
    "    min_cells = forest.spec[process_name][\"min_cells\"]\n",
    "    perc_mito_cutoff = forest.spec[process_name][\"perc_mito_cutoff\"]\n",
    "    method = forest.spec[process_name][\"method\"]"
   ]
  },
  {
   "cell_type": "markdown",
   "metadata": {},
   "source": [
    "We can check out the spec to see those values"
   ]
  },
  {
   "cell_type": "code",
   "execution_count": 57,
   "metadata": {},
   "outputs": [
    {
     "data": {
      "text/plain": [
       "{'normalize': {'min_genes': 5,\n",
       "  'max_genes': 5000,\n",
       "  'min_cells': 5,\n",
       "  'nfeatures': 30,\n",
       "  'perc_mito_cutoff': 20,\n",
       "  'method': 'seurat_default'},\n",
       " 'reduce': {},\n",
       " 'cluster': {}}"
      ]
     },
     "execution_count": 57,
     "metadata": {},
     "output_type": "execute_result"
    }
   ],
   "source": [
    "cf.spec"
   ]
  },
  {
   "cell_type": "markdown",
   "metadata": {},
   "source": [
    "This line gets the filepath to some R utility functions from our configuration. It accesses the `__class__` attribute due to a metaprogramming implementation detail that allows us to dynamically change the configuration."
   ]
  },
  {
   "cell_type": "code",
   "execution_count": null,
   "metadata": {},
   "outputs": [],
   "source": [
    "    r_functions_filepath = forest.schema.__class__.R_FILEPATHS[\"FUNCTIONS_FILE_PATH\"]"
   ]
  },
  {
   "cell_type": "markdown",
   "metadata": {},
   "source": [
    "To inspect the configuration:"
   ]
  },
  {
   "cell_type": "code",
   "execution_count": 60,
   "metadata": {},
   "outputs": [],
   "source": [
    "# TODO: MAKE DATAHOOK - E.G. TO USE LATEST MATRIX, OR TO CONCAT CLUSTERS TO META"
   ]
  },
  {
   "cell_type": "code",
   "execution_count": null,
   "metadata": {},
   "outputs": [],
   "source": []
  },
  {
   "cell_type": "markdown",
   "metadata": {},
   "source": [
    "To update the configuration"
   ]
  },
  {
   "cell_type": "code",
   "execution_count": null,
   "metadata": {},
   "outputs": [],
   "source": []
  },
  {
   "cell_type": "markdown",
   "metadata": {},
   "source": [
    "Generally, you wouldn't want to dynamically update the configuration like this, but rather pass it in when you instantiate your `CellForest`. "
   ]
  },
  {
   "cell_type": "code",
   "execution_count": null,
   "metadata": {},
   "outputs": [],
   "source": []
  },
  {
   "cell_type": "markdown",
   "metadata": {},
   "source": [
    "What about having two of them with different configs? Test this -- if a problem, use a more global feeling interface to update it"
   ]
  },
  {
   "cell_type": "markdown",
   "metadata": {},
   "source": [
    "The normalize process both filters out cells by mitochondrial fraction and does counts matrix normalization using either Seurat default normalization or sctransform, as specified in the parameters. It outputs "
   ]
  },
  {
   "cell_type": "markdown",
   "metadata": {},
   "source": [
    "### Data Specification"
   ]
  },
  {
   "cell_type": "markdown",
   "metadata": {},
   "source": [
    "In addition to parameter specification, we may also want to specify the data which flows into each process. We can do that either by subsetting the data, to include only those which match the specification, or by filtering the data to exclude those which match the specification."
   ]
  },
  {
   "cell_type": "markdown",
   "metadata": {},
   "source": [
    "**Subset**"
   ]
  },
  {
   "cell_type": "code",
   "execution_count": null,
   "metadata": {},
   "outputs": [],
   "source": []
  },
  {
   "cell_type": "markdown",
   "metadata": {},
   "source": [
    "### Filter"
   ]
  },
  {
   "cell_type": "code",
   "execution_count": null,
   "metadata": {},
   "outputs": [],
   "source": []
  },
  {
   "cell_type": "markdown",
   "metadata": {},
   "source": [
    "### Partition"
   ]
  },
  {
   "cell_type": "code",
   "execution_count": null,
   "metadata": {},
   "outputs": [],
   "source": []
  },
  {
   "cell_type": "markdown",
   "metadata": {},
   "source": [
    "# Customizing modules"
   ]
  },
  {
   "cell_type": "code",
   "execution_count": null,
   "metadata": {},
   "outputs": [],
   "source": []
  }
 ],
 "metadata": {
  "kernelspec": {
   "display_name": "Python 3",
   "language": "python",
   "name": "python3"
  },
  "language_info": {
   "codemirror_mode": {
    "name": "ipython",
    "version": 3
   },
   "file_extension": ".py",
   "mimetype": "text/x-python",
   "name": "python",
   "nbconvert_exporter": "python",
   "pygments_lexer": "ipython3",
   "version": "3.8.3"
  }
 },
 "nbformat": 4,
 "nbformat_minor": 4
}