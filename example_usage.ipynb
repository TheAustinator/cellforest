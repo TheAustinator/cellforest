{
 "cells": [
  {
   "cell_type": "markdown",
   "metadata": {},
   "source": [
    "# Imports"
   ]
  },
  {
   "cell_type": "code",
   "execution_count": 58,
   "metadata": {},
   "outputs": [
    {
     "name": "stdout",
     "output_type": "stream",
     "text": [
      "The autoreload extension is already loaded. To reload it, use:\n",
      "  %reload_ext autoreload\n"
     ]
    }
   ],
   "source": [
    "%load_ext autoreload\n",
    "%autoreload 2\n",
    "\n",
    "import cellforest as cf\n",
    "from matplotlib import pyplot as plt\n",
    "import os\n",
    "import numpy as np\n",
    "import pandas as pd\n",
    "from pathlib import Path"
   ]
  },
  {
   "cell_type": "markdown",
   "metadata": {},
   "source": [
    "# Branch"
   ]
  },
  {
   "cell_type": "markdown",
   "metadata": {},
   "source": [
    "There are many ways to process a single dataset -- changing parameters, adding or removing processing steps, filtering or partitioning data. A `CellBranch` represents a single path through a chain of processes, multiple of which can be easily created to comparatively peer into \"parallel universes\" of processing."
   ]
  },
  {
   "cell_type": "markdown",
   "metadata": {},
   "source": [
    "### Load 10X Sample Data"
   ]
  },
  {
   "cell_type": "markdown",
   "metadata": {},
   "source": [
    "TODO: this is just loading the 150 x 300"
   ]
  },
  {
   "cell_type": "code",
   "execution_count": 59,
   "metadata": {},
   "outputs": [],
   "source": [
    "cellranger_dir = Path(\"tests/data/filtered_gene_bc_matrices/hg19/\")"
   ]
  },
  {
   "cell_type": "code",
   "execution_count": 60,
   "metadata": {},
   "outputs": [],
   "source": [
    "from tests.utils.get_test_data import get_test_data\n",
    "if not cellranger_dir.exists():\n",
    "    get_test_data(keep_raw=True)\n",
    "    if not cellranger_dir.exists():\n",
    "        raise ValueError(\"Notebook must be updated to conform to `get_test_data`\")"
   ]
  },
  {
   "cell_type": "code",
   "execution_count": 61,
   "metadata": {},
   "outputs": [
    {
     "name": "stdout",
     "output_type": "stream",
     "text": [
      "barcodes.tsv  genes.tsv  matrix.mtx\n"
     ]
    }
   ],
   "source": [
    "ls {cellranger_dir}"
   ]
  },
  {
   "cell_type": "markdown",
   "metadata": {},
   "source": [
    "### Get or Create Metadata"
   ]
  },
  {
   "cell_type": "markdown",
   "metadata": {},
   "source": [
    "This set of metadata contains only two columns:\n",
    "\n",
    "`entity_id`: contains the sample or lane identifier, which will be appended to the cell barcodes to prevent barcode collisions in the case of multiple lanes\n",
    "\n",
    "`path_rna`: the directory path to the cellranger outputs containing the `matrix.mtx(.gz)`, `barcodes.mtx(.gz)`, and `features.mtx(.gz)`. (Many older file formats are supported as well)\n",
    "\n",
    "Usually, the metadata would contain much more information which may be useful during analysis, e.g. patient information, cell processing information, etc. The only requirement is that column names don't start with `path_`."
   ]
  },
  {
   "cell_type": "code",
   "execution_count": 62,
   "metadata": {},
   "outputs": [],
   "source": [
    "cellforest_dir = Path(os.path.abspath(\"\"))\n",
    "sample_dir = cellforest_dir / \"tests/data/filtered_gene_bc_matrices/hg19/\""
   ]
  },
  {
   "cell_type": "markdown",
   "metadata": {},
   "source": [
    "TODO: more samples"
   ]
  },
  {
   "cell_type": "code",
   "execution_count": 63,
   "metadata": {},
   "outputs": [],
   "source": [
    "df = pd.DataFrame({\"entity_id\": [\"sample_1\"], \"path_rna\": [str(sample_dir)]})"
   ]
  },
  {
   "cell_type": "markdown",
   "metadata": {},
   "source": [
    "### Create a Branch"
   ]
  },
  {
   "cell_type": "markdown",
   "metadata": {},
   "source": [
    "The branch requires a `root`, or a directory where all datasets are combined into a single matrix. From here, plotting, QC, data subsetting, and further processing can be done."
   ]
  },
  {
   "cell_type": "markdown",
   "metadata": {},
   "source": [
    "Specify a directory for the root. Use any directory -- it will be created if it doesn't yet exist. Note: **use absolute paths, not relative ones**"
   ]
  },
  {
   "cell_type": "code",
   "execution_count": 64,
   "metadata": {},
   "outputs": [],
   "source": [
    "example_dir = cellforest_dir / \"tests/data/example_usage\""
   ]
  },
  {
   "cell_type": "code",
   "execution_count": 65,
   "metadata": {},
   "outputs": [],
   "source": [
    "root_path = example_dir / \"root\""
   ]
  },
  {
   "cell_type": "code",
   "execution_count": null,
   "metadata": {},
   "outputs": [],
   "source": [
    "# rm -r {root_path}"
   ]
  },
  {
   "cell_type": "markdown",
   "metadata": {},
   "source": [
    "Use the `from_sample_metadata` function to combine the input datasets specified in `meta` into the `root_dir` and instantiate a branch (`CellBranch`) object from it."
   ]
  },
  {
   "cell_type": "markdown",
   "metadata": {},
   "source": [
    "This is only required the first time, however, as the combined data has been saved to `root_path`. Once the root has been created, `cf.load` can be used in subsequent sessions."
   ]
  },
  {
   "cell_type": "code",
   "execution_count": 66,
   "metadata": {},
   "outputs": [],
   "source": [
    "br = cf.from_sample_metadata(root_path, df)\n",
    "# br = cf.load(root_path)"
   ]
  },
  {
   "cell_type": "code",
   "execution_count": 67,
   "metadata": {},
   "outputs": [
    {
     "data": {
      "text/plain": [
       "<cellforest.templates.CellBranch.CellBranch at 0x7fb278bfb040>"
      ]
     },
     "execution_count": 67,
     "metadata": {},
     "output_type": "execute_result"
    }
   ],
   "source": [
    "br"
   ]
  },
  {
   "cell_type": "markdown",
   "metadata": {},
   "source": [
    "Note: If you find yourself grievously impovrished of metadata, you can replace `from_sample_metadata` with `from_input_dirs`, passing a list of paths to 10X outs dirs rather than a dataframe as the second arg."
   ]
  },
  {
   "cell_type": "markdown",
   "metadata": {},
   "source": [
    "Additional plotting functions can be found in `advanced_usage.ipynb`"
   ]
  },
  {
   "cell_type": "markdown",
   "metadata": {},
   "source": [
    "# Processing"
   ]
  },
  {
   "cell_type": "markdown",
   "metadata": {},
   "source": [
    "### Spec"
   ]
  },
  {
   "cell_type": "markdown",
   "metadata": {},
   "source": [
    "A set or process steps is defined by a `branch_spec`, which is a list of dictionaries, each dictionary representing the specification for a given process, and the order of the list representing the order of execution. The keys in each dictionary tell the process how to execute."
   ]
  },
  {
   "cell_type": "markdown",
   "metadata": {},
   "source": [
    "Rather than attempting to remember the structure of the `branch_spec`, one can start with the provided example and modify it as needed."
   ]
  },
  {
   "cell_type": "code",
   "execution_count": 68,
   "metadata": {},
   "outputs": [
    {
     "data": {
      "text/plain": [
       "[{'_PROCESS_': 'normalize',\n",
       "  '_PARAMS_': {'min_genes': 0,\n",
       "   'max_genes': 37000,\n",
       "   'min_cells': 3,\n",
       "   'nfeatures': 3000,\n",
       "   'perc_mito_cutoff': 100,\n",
       "   'method': 'seurat_default'}},\n",
       " {'_PROCESS_': 'reduce',\n",
       "  '_PARAMS_': {'pca_npcs': 30,\n",
       "   'umap_n_neighbors': 30,\n",
       "   'umap_min_dist': 0.3,\n",
       "   'umap_n_components': 2,\n",
       "   'umap_metric': 'correlation'}},\n",
       " {'_PROCESS_': 'cluster', '_PARAMS_': {'num_pcs': 3, 'res': 0.5, 'eps': 0.1}},\n",
       " {'_PROCESS_': 'markers',\n",
       "  '_PARAMS_': {'logfc_thresh': 0.25, 'test': 'wilcox'}}]"
      ]
     },
     "execution_count": 68,
     "metadata": {},
     "output_type": "execute_result"
    }
   ],
   "source": [
    "spec = cf.defaults.spec_markers\n",
    "spec"
   ]
  },
  {
   "cell_type": "markdown",
   "metadata": {},
   "source": [
    "The keys in this default spec are:\n",
    "- `_PROCESS_`: the name of the process to be executed\n",
    "- `_PARAMS_`: a dict of params to be fed to that process\n",
    "Additionally, keys can be specified to subset, filter, or partition the cells based on columns in the metadata before it's passed to the process.\n",
    "- `_SUBSET_`: a dict of column names and accepted column values. For example: `{\"entity_id\": \"sample_1\"}`. To accept multiple values for a given column, provide a list of accepted values, and to subset by multiple columns, use multiple keys\n",
    "- `_FILTER_`: same as `_SUBSET_`, but rather than specified values being kept, they are removed. Be default, if multiple keys are provided, each filter is applied separately. The `_MULTI_` key can be used to apply multiple filters jointly, which is covered in `advanced_usage.ipynb`.\n",
    "\n",
    "Note that subsets and filters will persist into any downstream processes of that in which they're specified."
   ]
  },
  {
   "cell_type": "markdown",
   "metadata": {},
   "source": [
    "For `normalize`, the `_PARAMS_` show that it doesn't do filtering by minimum expressed genes or percent mitochondrial UMIs, which is a good choice for a first pass analysis to do QC and get a lay of the land. Let's pretend that we've already done this, and want to set a mitochondrial filtering threshold of 25% for our branch. "
   ]
  },
  {
   "cell_type": "code",
   "execution_count": 69,
   "metadata": {},
   "outputs": [],
   "source": [
    "spec[1][\"_PARAMS_\"][\"perc_mito_cutoff\"] = 25"
   ]
  },
  {
   "cell_type": "markdown",
   "metadata": {},
   "source": [
    "Our current branch has no `branch_spec`, only the root, so it isn't actually ready for processing. To make a processing-ready branch, we must supply this information"
   ]
  },
  {
   "cell_type": "code",
   "execution_count": 70,
   "metadata": {},
   "outputs": [],
   "source": [
    "br = cf.load(root_path, branch_spec=spec)"
   ]
  },
  {
   "cell_type": "code",
   "execution_count": 71,
   "metadata": {},
   "outputs": [
    {
     "data": {
      "text/plain": [
       "[{'_PROCESS_': 'normalize',\n",
       "  '_PARAMS_': {'min_genes': 0,\n",
       "   'max_genes': 37000,\n",
       "   'min_cells': 3,\n",
       "   'nfeatures': 3000,\n",
       "   'perc_mito_cutoff': 100,\n",
       "   'method': 'seurat_default'}},\n",
       " {'_PROCESS_': 'reduce',\n",
       "  '_PARAMS_': {'pca_npcs': 30,\n",
       "   'umap_n_neighbors': 30,\n",
       "   'umap_min_dist': 0.3,\n",
       "   'umap_n_components': 2,\n",
       "   'umap_metric': 'correlation',\n",
       "   'perc_mito_cutoff': 25}},\n",
       " {'_PROCESS_': 'cluster', '_PARAMS_': {'num_pcs': 3, 'res': 0.5, 'eps': 0.1}},\n",
       " {'_PROCESS_': 'markers',\n",
       "  '_PARAMS_': {'logfc_thresh': 0.25, 'test': 'wilcox'}}]"
      ]
     },
     "execution_count": 71,
     "metadata": {},
     "output_type": "execute_result"
    }
   ],
   "source": [
    "br.spec"
   ]
  },
  {
   "cell_type": "markdown",
   "metadata": {},
   "source": [
    "### Process Execution"
   ]
  },
  {
   "cell_type": "markdown",
   "metadata": {},
   "source": [
    "Now we can access the processes via the `CellBranch.process` attribute. Try not to stop processes midway through, which could cause errors in the filesystem. If you do stop midway, it is advisable to delete the containing folder"
   ]
  },
  {
   "cell_type": "code",
   "execution_count": 72,
   "metadata": {},
   "outputs": [
    {
     "name": "stderr",
     "output_type": "stream",
     "text": [
      "WARNING:root:Plot map for 'normalize' is undefined, skipping plots hook\n"
     ]
    }
   ],
   "source": [
    "br.process.normalize()"
   ]
  },
  {
   "cell_type": "markdown",
   "metadata": {},
   "source": [
    "Note: `stop_on_error=True` and `stop_on_hook_error=True` may be helpful arguments for debugging."
   ]
  },
  {
   "cell_type": "markdown",
   "metadata": {},
   "source": [
    "normalize also filters, so shape will likely change"
   ]
  },
  {
   "cell_type": "code",
   "execution_count": 73,
   "metadata": {},
   "outputs": [
    {
     "data": {
      "text/plain": [
       "(2700, 32738)"
      ]
     },
     "execution_count": 73,
     "metadata": {},
     "output_type": "execute_result"
    }
   ],
   "source": [
    "br.rna.shape"
   ]
  },
  {
   "cell_type": "code",
   "execution_count": 74,
   "metadata": {},
   "outputs": [
    {
     "name": "stderr",
     "output_type": "stream",
     "text": [
      "WARNING:root:Plot map for 'reduce' is undefined, skipping plots hook\n"
     ]
    }
   ],
   "source": [
    "br.process.reduce()"
   ]
  },
  {
   "cell_type": "code",
   "execution_count": 75,
   "metadata": {},
   "outputs": [
    {
     "name": "stderr",
     "output_type": "stream",
     "text": [
      "WARNING:root:Plot map for 'cluster' is undefined, skipping plots hook\n"
     ]
    }
   ],
   "source": [
    "br.process.cluster()"
   ]
  },
  {
   "cell_type": "code",
   "execution_count": 76,
   "metadata": {},
   "outputs": [
    {
     "name": "stderr",
     "output_type": "stream",
     "text": [
      "WARNING:root:Plot map for 'markers' is undefined, skipping plots hook\n"
     ]
    }
   ],
   "source": [
    "br.process.markers()"
   ]
  },
  {
   "cell_type": "markdown",
   "metadata": {},
   "source": [
    "Note that the results of all processing have now been saved to disk for this root and spec, and so you won't have to run the above ever again. Instead, you can simpley use `br = cf.load(...)` with your root and spec, then e.g. `br.goto_process(\"markers\")` to traverse the branch, which will update `br.current_process`"
   ]
  },
  {
   "cell_type": "markdown",
   "metadata": {},
   "source": [
    "# Plotting"
   ]
  },
  {
   "cell_type": "markdown",
   "metadata": {},
   "source": [
    "To see the available plotting methods, check the [documentation](https://github.com/TheAustinator/cellforest/tree/feature/plotting-updates/cellforest#iii-all-implemented-plots). When we get behind on documentation, some plots may be missing, so the names of all plotting methods can be viewed via:"
   ]
  },
  {
   "cell_type": "code",
   "execution_count": 77,
   "metadata": {},
   "outputs": [
    {
     "data": {
      "text/plain": [
       "{'root': {'plot_cell_cycle_scoring_scat',\n",
       "  'plot_expressing_cells_bar',\n",
       "  'plot_expressing_cells_bar_facet_gene',\n",
       "  'plot_frac_cells_recovered_bar',\n",
       "  'plot_genes_per_cell_hist',\n",
       "  'plot_highest_exprs_dens',\n",
       "  'plot_hist_features',\n",
       "  'plot_marker_genes_per_cluster_bar',\n",
       "  'plot_meta_vln',\n",
       "  'plot_pca_elbow_curv',\n",
       "  'plot_pca_embeddings_scat',\n",
       "  'plot_pca_loadings_scat',\n",
       "  'plot_perc_hsp_per_cell_hist',\n",
       "  'plot_perc_hsp_per_cell_vln_r',\n",
       "  'plot_perc_mito_per_cell_hist',\n",
       "  'plot_perc_mito_per_cell_vln_r',\n",
       "  'plot_perc_ribo_per_cell_hist',\n",
       "  'plot_perc_ribo_per_cell_vln_r',\n",
       "  'plot_umap_embeddings_scat',\n",
       "  'plot_umap_embeddings_scat_r',\n",
       "  'plot_umap_features',\n",
       "  'plot_umis_per_barcode_rank_curv',\n",
       "  'plot_umis_per_cell_hist',\n",
       "  'plot_umis_vs_genes_scat',\n",
       "  'plot_umis_vs_perc_hsp_scat',\n",
       "  'plot_umis_vs_perc_mito_scat',\n",
       "  'plot_umis_vs_perc_mito_scat_r',\n",
       "  'plot_umis_vs_perc_ribo_scat',\n",
       "  'plot_umis_vs_perc_ribo_scat_r'}}"
      ]
     },
     "execution_count": 77,
     "metadata": {},
     "output_type": "execute_result"
    }
   ],
   "source": [
    "br.plot.methods"
   ]
  },
  {
   "cell_type": "markdown",
   "metadata": {},
   "source": [
    "The fact that they all show up under `root` is a bug -- those that require e.g. `cluster` will only become available after when `br.current_process` is at cluster or later"
   ]
  },
  {
   "cell_type": "code",
   "execution_count": 78,
   "metadata": {},
   "outputs": [
    {
     "data": {
      "text/plain": [
       "<cellforest.templates.CellBranch.CellBranch at 0x7fb28c5b2ee0>"
      ]
     },
     "execution_count": 78,
     "metadata": {},
     "output_type": "execute_result"
    }
   ],
   "source": [
    "br.goto_process(\"markers\")"
   ]
  },
  {
   "cell_type": "code",
   "execution_count": 79,
   "metadata": {},
   "outputs": [
    {
     "data": {
      "text/plain": [
       "<Figure size 432x288 with 0 Axes>"
      ]
     },
     "metadata": {},
     "output_type": "display_data"
    },
    {
     "data": {
      "image/png": "[encoded data removed]",
      "text/plain": [
       "<Figure size 500x500 with 1 Axes>"
      ]
     },
     "metadata": {
      "needs_background": "light"
     },
     "output_type": "display_data"
    }
   ],
   "source": [
    "br.plot.plot_genes_per_cell_hist(alpha=0.5, show=False, bins=np.arange(0, 3500, 100));"
   ]
  },
  {
   "cell_type": "markdown",
   "metadata": {},
   "source": [
    "Note: `show=False` is so that only one plot shows up. In the case that no plots show up, try setting `show=True`"
   ]
  },
  {
   "cell_type": "markdown",
   "metadata": {},
   "source": [
    "Most of these functions use matplotlib under the hood, so you can pass matplotlib keyword arguments (kwargs) in addition to some of our custom ones. Note that the custom kwargs may not work for every plot type\n",
    "\n",
    "Custom kwargs:\n",
    "- **stratify** (str or List[str]): color by column(s) from metadata\n",
    "- **facet** (str or List[str]): separate subplots by column(s) from metadata\n",
    "- facet_dim: (Tuple[int]): dimensions of subplots. Can specify one dimension and use `None` to auto-calc the other. E.g. (2, 2) or (2, None)\n",
    "- xlim, ylim (Tuple[int or float]): lower and upper limits for axis e.g. (0, 1)\n",
    "- xscale, yscale {\"linear\", \"log\", \"symlog\", \"logit\", ...}: scale for axis\n",
    "- figsize (Tuple[int]): figure size in inches e.g. (4, 8)\n",
    "- ax (maplotlib.axes.Axes): plot on existing `Axes` object\n",
    "- fig (matplotlib.figure.Figure): plot on existing `Figure` object"
   ]
  },
  {
   "cell_type": "markdown",
   "metadata": {},
   "source": [
    "Stratifying by two columns isn't useful in the example below since there's only one `entity_id` in the data, but would be useful if there were more"
   ]
  },
  {
   "cell_type": "code",
   "execution_count": 80,
   "metadata": {},
   "outputs": [
    {
     "name": "stdout",
     "output_type": "stream",
     "text": [
      "cat: /home/ubuntu/code/cellforest/tests/data/example_usage/root/normalize/kfl1H260/reduce/KYgXrxtY/cluster/aDrIv5Pd/markers/4W3QIwLz/_logs/plot_highest_exprs_dens.err: No such file or directory\n"
     ]
    }
   ],
   "source": [
    "cat /home/ubuntu/code/cellforest/tests/data/example_usage/root/normalize/kfl1H260/reduce/KYgXrxtY/cluster/aDrIv5Pd/markers/4W3QIwLz/_logs/plot_highest_exprs_dens.err"
   ]
  },
  {
   "cell_type": "code",
   "execution_count": 81,
   "metadata": {},
   "outputs": [
    {
     "data": {
      "image/png": "[encoded data removed]",
      "text/plain": [
       "<IPython.core.display.Image object>"
      ]
     },
     "metadata": {},
     "output_type": "display_data"
    },
    {
     "data": {
      "text/plain": [
       "[<IPython.core.display.Image object>]"
      ]
     },
     "execution_count": 81,
     "metadata": {},
     "output_type": "execute_result"
    }
   ],
   "source": [
    "br.plot.plot_highest_exprs_dens(stop_on_error=True)"
   ]
  },
  {
   "cell_type": "code",
   "execution_count": 82,
   "metadata": {},
   "outputs": [
    {
     "name": "stderr",
     "output_type": "stream",
     "text": [
      "WARNING:matplotlib.legend:No handles with labels found to put in legend.\n",
      "/home/ubuntu/code/cellforest/cellforest/plot/reduce.py:43: MatplotlibDeprecationWarning: The 'alpha' parameter to Colorbar has no effect because it is overridden by the mappable; it is deprecated since 3.3 and will be removed two minor releases later.\n",
      "  fig.colorbar(scat, ax=ax, alpha=1, pad=0)\n",
      "WARNING:matplotlib.legend:No handles with labels found to put in legend.\n",
      "WARNING:matplotlib.legend:No handles with labels found to put in legend.\n",
      "WARNING:matplotlib.legend:No handles with labels found to put in legend.\n"
     ]
    },
    {
     "data": {
      "text/plain": [
       "(<Figure size 500x500 with 1 Axes>, array([[<AxesSubplot:>]], dtype=object))"
      ]
     },
     "execution_count": 82,
     "metadata": {},
     "output_type": "execute_result"
    },
    {
     "data": {
      "text/plain": [
       "<Figure size 432x288 with 0 Axes>"
      ]
     },
     "metadata": {},
     "output_type": "display_data"
    },
    {
     "data": {
      "image/png": "[encoded data removed]",
      "text/plain": [
       "<Figure size 500x500 with 1 Axes>"
      ]
     },
     "metadata": {
      "needs_background": "light"
     },
     "output_type": "display_data"
    },
    {
     "data": {
      "image/png": "[encoded data removed]",
      "text/plain": [
       "<Figure size 792x720 with 8 Axes>"
      ]
     },
     "metadata": {
      "needs_background": "light"
     },
     "output_type": "display_data"
    }
   ],
   "source": [
    "br.plot.plot_umap_features(features=[\"CD74\", \"CD52\", \"CD37\", \"CD48\"], alpha=0.25, s=1, ncol=2, stop_on_error=True, show=False)"
   ]
  },
  {
   "cell_type": "code",
   "execution_count": 83,
   "metadata": {},
   "outputs": [
    {
     "data": {
      "text/plain": [
       "<Figure size 432x288 with 0 Axes>"
      ]
     },
     "metadata": {},
     "output_type": "display_data"
    },
    {
     "data": {
      "image/png": "[encoded data removed]",
      "text/plain": [
       "<Figure size 500x500 with 1 Axes>"
      ]
     },
     "metadata": {
      "needs_background": "light"
     },
     "output_type": "display_data"
    }
   ],
   "source": [
    "br.plot.plot_umap_embeddings_scat(alpha=0.25, s=1, stratify=[\"entity_id\", \"cluster_id\"], show=False);"
   ]
  },
  {
   "cell_type": "markdown",
   "metadata": {},
   "source": [
    "# Tree"
   ]
  },
  {
   "cell_type": "markdown",
   "metadata": {},
   "source": [
    "A branch is a single lineage of processing steps with specific parameters, subsets, etc. A tree is a collection of branches created by trying multiple different parameters, subsets, etc."
   ]
  },
  {
   "cell_type": "code",
   "execution_count": 84,
   "metadata": {},
   "outputs": [
    {
     "data": {
      "text/plain": [
       "[{'_PROCESS_': 'normalize',\n",
       "  '_PARAMS_': {'min_genes': 0,\n",
       "   'max_genes': 37000,\n",
       "   'min_cells': 3,\n",
       "   'nfeatures': 3000,\n",
       "   'perc_mito_cutoff': 100,\n",
       "   'method': 'seurat_default'}},\n",
       " {'_PROCESS_': 'reduce',\n",
       "  '_PARAMS_': {'pca_npcs': 30,\n",
       "   'umap_n_neighbors': 30,\n",
       "   'umap_min_dist': 0.3,\n",
       "   'umap_n_components': 2,\n",
       "   'umap_metric': 'correlation'}},\n",
       " {'_PROCESS_': 'cluster', '_PARAMS_': {'num_pcs': 3, 'res': 0.5, 'eps': 0.1}},\n",
       " {'_PROCESS_': 'markers',\n",
       "  '_PARAMS_': {'logfc_thresh': 0.25, 'test': 'wilcox'}}]"
      ]
     },
     "execution_count": 84,
     "metadata": {},
     "output_type": "execute_result"
    }
   ],
   "source": [
    "tree_spec = cf.defaults.spec_markers\n",
    "tree_spec"
   ]
  },
  {
   "cell_type": "markdown",
   "metadata": {},
   "source": [
    "Right now, the spec is no different from that of a branch, but we can add parameter variations, which are in the form of tuples, where each element in the tuple subsequentially indexes into the spec, so: `(0, \"_PARAMS_\", \"perc_mito_cutoff\", 25)` would add a branch to the tree which is the same except for in process index 0 (normalize), under \"_PARAMS_\", \"perc_mito_cutoff\" is set to 25. We provide all of the twig permutations we want as a list"
   ]
  },
  {
   "cell_type": "code",
   "execution_count": 85,
   "metadata": {},
   "outputs": [],
   "source": [
    "twigs = [\n",
    "    (0, \"_PARAMS_\", \"perc_mito_cutoff\", 25),\n",
    "    (0, \"_PARAMS_\", \"nfeatures\", 5000),\n",
    "    (1, \"_PARAMS_\", \"umap_metric\", \"euclidean\"),\n",
    "]"
   ]
  },
  {
   "cell_type": "markdown",
   "metadata": {},
   "source": [
    "These will each be applied separately, but if we'd like to make a single \"twig\" with multiple adjustments, you can use a nested list. In the case below, now we have two twigs, one that just changes percent mito, and another that changes both nfeatures and umap_metric"
   ]
  },
  {
   "cell_type": "code",
   "execution_count": 86,
   "metadata": {},
   "outputs": [],
   "source": [
    "twigs = [\n",
    "    (0, \"_PARAMS_\", \"perc_mito_cutoff\", 25),\n",
    "    [\n",
    "        (0, \"_PARAMS_\", \"nfeatures\", 5000),\n",
    "        (1, \"_PARAMS_\", \"umap_metric\", \"euclidean\"),   \n",
    "    ]\n",
    "]"
   ]
  },
  {
   "cell_type": "code",
   "execution_count": 87,
   "metadata": {},
   "outputs": [],
   "source": [
    "tree = cf.load(root_path, tree_spec=spec, twigs=twigs)"
   ]
  },
  {
   "cell_type": "code",
   "execution_count": 88,
   "metadata": {},
   "outputs": [
    {
     "name": "stderr",
     "output_type": "stream",
     "text": [
      "WARNING:root:Plot map for 'normalize' is undefined, skipping plots hook\n",
      "WARNING:root:Plot map for 'normalize' is undefined, skipping plots hook\n"
     ]
    },
    {
     "data": {
      "text/plain": [
       "[None, None, None]"
      ]
     },
     "execution_count": 88,
     "metadata": {},
     "output_type": "execute_result"
    }
   ],
   "source": [
    "tree.process.normalize()"
   ]
  },
  {
   "cell_type": "code",
   "execution_count": 89,
   "metadata": {},
   "outputs": [
    {
     "name": "stderr",
     "output_type": "stream",
     "text": [
      "WARNING:root:Plot map for 'reduce' is undefined, skipping plots hook\n",
      "WARNING:root:Plot map for 'reduce' is undefined, skipping plots hook\n"
     ]
    },
    {
     "data": {
      "text/plain": [
       "[None, None, None]"
      ]
     },
     "execution_count": 89,
     "metadata": {},
     "output_type": "execute_result"
    }
   ],
   "source": [
    "tree.process.reduce()"
   ]
  },
  {
   "cell_type": "code",
   "execution_count": 90,
   "metadata": {},
   "outputs": [
    {
     "name": "stderr",
     "output_type": "stream",
     "text": [
      "WARNING:root:Plot map for 'cluster' is undefined, skipping plots hook\n",
      "WARNING:root:Plot map for 'cluster' is undefined, skipping plots hook\n"
     ]
    },
    {
     "data": {
      "text/plain": [
       "[None, None, None]"
      ]
     },
     "execution_count": 90,
     "metadata": {},
     "output_type": "execute_result"
    }
   ],
   "source": [
    "tree.process.cluster()"
   ]
  },
  {
   "cell_type": "code",
   "execution_count": 91,
   "metadata": {},
   "outputs": [
    {
     "name": "stderr",
     "output_type": "stream",
     "text": [
      "WARNING:root:Plot map for 'markers' is undefined, skipping plots hook\n",
      "WARNING:root:Plot map for 'markers' is undefined, skipping plots hook\n",
      "WARNING:root:Plot map for 'markers' is undefined, skipping plots hook\n"
     ]
    },
    {
     "data": {
      "text/plain": [
       "[None, None, None]"
      ]
     },
     "execution_count": 91,
     "metadata": {},
     "output_type": "execute_result"
    }
   ],
   "source": [
    "tree.process.markers()"
   ]
  },
  {
   "cell_type": "markdown",
   "metadata": {},
   "source": [
    "Bug note: if you load and run the above processes and they've been previously run, the tree may stay at root, so the below is just to ensure we're at the right place"
   ]
  },
  {
   "cell_type": "code",
   "execution_count": 92,
   "metadata": {},
   "outputs": [],
   "source": [
    "tree.goto_process(\"markers\")"
   ]
  },
  {
   "cell_type": "code",
   "execution_count": 93,
   "metadata": {},
   "outputs": [
    {
     "data": {
      "application/vnd.jupyter.widget-view+json": {
       "model_id": "233c08e8fdc84f6aa22cc2c4fdab4da5",
       "version_major": 2,
       "version_minor": 0
      },
      "text/plain": [
       "interactive(children=(Dropdown(description='twig_str', options=('base', \"(0, '_PARAMS_', 'perc_mito_cutoff', 2…"
      ]
     },
     "metadata": {},
     "output_type": "display_data"
    },
    {
     "data": {
      "text/plain": [
       "<function dataforest.plot.PlotWidget.PlotWidget.build_control.<locals>._control(**kwargs: Dict[str, Any])>"
      ]
     },
     "execution_count": 93,
     "metadata": {},
     "output_type": "execute_result"
    }
   ],
   "source": [
    "tree.plot.plot_umap_embeddings_scat(stratify=\"cluster_id\", alpha=0.25, s=1, stop_on_error=True)"
   ]
  }
 ],
 "metadata": {
  "kernelspec": {
   "display_name": "Python 3",
   "language": "python",
   "name": "python3"
  },
  "language_info": {
   "codemirror_mode": {
    "name": "ipython",
    "version": 3
   },
   "file_extension": ".py",
   "mimetype": "text/x-python",
   "name": "python",
   "nbconvert_exporter": "python",
   "pygments_lexer": "ipython3",
   "version": "3.8.5"
  }
 },
 "nbformat": 4,
 "nbformat_minor": 4
}
